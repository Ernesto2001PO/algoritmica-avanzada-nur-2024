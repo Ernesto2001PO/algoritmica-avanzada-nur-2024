{
 "cells": [
  {
   "cell_type": "code",
   "execution_count": 6,
   "metadata": {},
   "outputs": [],
   "source": [
    "import copy\n",
    "class ObjetoMochila:\n",
    "    \n",
    "    def __init__(self,nombre : str = \"sin nombre\" , beneficio  : int = 0 , peso: int = 0):\n",
    "        self.nombre = nombre\n",
    "        self.beneficio = beneficio\n",
    "        self.peso = peso \n",
    "    def __str__(self) -> str:\n",
    "        return  f\"{self.nombre} >> beneficio : {self.beneficio} peso : {self.peso}\"\n",
    "    def __eq__(self, value: object) -> bool:\n",
    "        if not isinstance(value,ObjetoMochila):\n",
    "            return False\n",
    "        return self.nombre == value.nombre and self.beneficio == value.beneficio and self.peso == value.peso\n",
    "    def crearClon(self)-> any:\n",
    "        clone = copy.deepcopy(self)\n",
    "        return clone"
   ]
  },
  {
   "cell_type": "code",
   "execution_count": 7,
   "metadata": {},
   "outputs": [],
   "source": [
    "import copy\n",
    "class Mochila:\n",
    "    def __init__(self, capacidadMaxima: int = 30) -> None:\n",
    "        self.capacidadMaxima= capacidadMaxima\n",
    "        self.objetos = []\n",
    "    def capacidadOcupada(self)-> int:\n",
    "        capacidad =0\n",
    "        for item in self.objetos:\n",
    "            capacidad += item.peso\n",
    "        return capacidad   \n",
    "    def beneficioTotal(self)-> int:\n",
    "        beneficio =0\n",
    "        for item in self.objetos:\n",
    "             beneficio += item.beneficio\n",
    "        return  beneficio  \n",
    "    def ponerObjeto(self, item : ObjetoMochila)-> bool:\n",
    "        capOcupada = self.capacidadOcupada()\n",
    "        if ( capOcupada + item.peso > self.capacidadMaxima):\n",
    "            print(\"mochila llena\")\n",
    "            return False\n",
    "        else:    \n",
    "            self.objetos.append(item)     \n",
    "            return True\n",
    "    def __str__(self) -> str:\n",
    "        st=\"\"\n",
    "        length = len(self.objetos)\n",
    "        if ( length > 0):\n",
    "            st=\"[\"\n",
    "            i=0\n",
    "            \n",
    "            while ( i < length):\n",
    "                st=st+ str(self.objetos[i])\n",
    "                if ( i +1 < length):\n",
    "                    st=st+\";\"\n",
    "                i+=1\n",
    "            st=st+\"]\"\n",
    "        else:\n",
    "            st=\"[]\"\n",
    "        return st        \n",
    "    def cantidadObjetos(self)->int:\n",
    "        return len(self.objetos)\n",
    "    def quitarUltimo(self)->ObjetoMochila:\n",
    "        return self.objetos.pop()\n",
    "        \n",
    "    def quitarObjeto(self,item: ObjetoMochila)->ObjetoMochila:\n",
    "        return self.objetos.remove(item)    \n",
    "    def crearClone(self)->any:\n",
    "        return copy.copy(self)\n",
    "    def rendimiento(self)->str:\n",
    "        return f\"Beneficio total : {self.beneficioTotal()} capacidad ocupada {self.capacidadOcupada()}\""
   ]
  },
  {
   "cell_type": "markdown",
   "metadata": {},
   "source": [
    "![alt text](image.png)"
   ]
  },
  {
   "cell_type": "code",
   "execution_count": 8,
   "metadata": {},
   "outputs": [],
   "source": [
    "e1=  ObjetoMochila(\"Articulos de aseo\",10,5)\n",
    "e2=  ObjetoMochila(\"Osito de peluche\" ,4,3)\n",
    "e3=  ObjetoMochila(\"Alimentos\" ,20,15)\n",
    "e4=  ObjetoMochila(\"Videojuego\" ,6,3)\n",
    "e5=  ObjetoMochila(\"Platos y cubiertos\" ,8,4)\n",
    "e6=  ObjetoMochila(\"AbreLatas\" ,1,1)\n",
    "e7=  ObjetoMochila(\"Libro\" ,15,9)\n",
    "e8=  ObjetoMochila(\"Telefono Celular\" ,2,2)\n",
    "e7=  ObjetoMochila(\"Encendedor\" ,6,3)\n",
    "e8=  ObjetoMochila(\"Reloj\" ,5,3)\n",
    "e9=  ObjetoMochila(\"Navaja\" ,10,4)\n",
    "e10=  ObjetoMochila(\"Ropa\" ,10,7)\n"
   ]
  },
  {
   "cell_type": "code",
   "execution_count": 10,
   "metadata": {},
   "outputs": [
    {
     "name": "stdout",
     "output_type": "stream",
     "text": [
      "mochila llena\n",
      "[Articulos de aseo >> beneficio : 10 peso : 5;Osito de peluche >> beneficio : 4 peso : 3;Alimentos >> beneficio : 20 peso : 15;Videojuego >> beneficio : 6 peso : 3;Platos y cubiertos >> beneficio : 8 peso : 4]\n",
      "Beneficio total : 48 capacidad ocupada 30\n"
     ]
    }
   ],
   "source": [
    "mochila = Mochila(30)\n",
    "mochila.ponerObjeto(e1)\n",
    "mochila.ponerObjeto(e2)\n",
    "mochila.ponerObjeto(e3)\n",
    "mochila.ponerObjeto(e4)\n",
    "mochila.ponerObjeto(e5)\n",
    "mochila.ponerObjeto(e6)\n",
    "print(mochila)\n",
    "print( mochila.rendimiento())"
   ]
  }
 ],
 "metadata": {
  "kernelspec": {
   "display_name": "Python 3",
   "language": "python",
   "name": "python3"
  },
  "language_info": {
   "codemirror_mode": {
    "name": "ipython",
    "version": 3
   },
   "file_extension": ".py",
   "mimetype": "text/x-python",
   "name": "python",
   "nbconvert_exporter": "python",
   "pygments_lexer": "ipython3",
   "version": "3.12.1"
  }
 },
 "nbformat": 4,
 "nbformat_minor": 2
}

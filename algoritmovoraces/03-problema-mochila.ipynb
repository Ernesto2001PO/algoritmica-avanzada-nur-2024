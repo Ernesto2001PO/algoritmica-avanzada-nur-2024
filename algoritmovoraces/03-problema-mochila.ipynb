{
 "cells": [
  {
   "cell_type": "code",
   "execution_count": 43,
   "metadata": {},
   "outputs": [],
   "source": [
    "import copy\n",
    "class ObjetoMochila:\n",
    "    \n",
    "    def __init__(self,nombre : str = \"sin nombre\" , beneficio  : int = 0 , peso: int = 0):\n",
    "        self.nombre = nombre\n",
    "        self.beneficio = beneficio\n",
    "        self.peso = peso \n",
    "    def __str__(self) -> str:\n",
    "        return  f\"{self.nombre} >> beneficio : {self.beneficio} peso : {self.peso}\"\n",
    "    def __eq__(self, value: object) -> bool:\n",
    "        if not isinstance(value,ObjetoMochila):\n",
    "            return False\n",
    "        return self.nombre == value.nombre and self.beneficio == value.beneficio and self.peso == value.peso\n",
    "    def crearClon(self)-> any:\n",
    "        clone = copy.deepcopy(self)\n",
    "        return clone"
   ]
  },
  {
   "cell_type": "code",
   "execution_count": 44,
   "metadata": {},
   "outputs": [],
   "source": [
    "import copy\n",
    "class Mochila:\n",
    "    def __init__(self, capacidadMaxima: int = 30) -> None:\n",
    "        self.capacidadMaxima= capacidadMaxima\n",
    "        self.objetos = []\n",
    "    def capacidadOcupada(self)-> int:\n",
    "        capacidad =0\n",
    "        for item in self.objetos:\n",
    "            capacidad += item.peso\n",
    "        return capacidad   \n",
    "    def beneficioTotal(self)-> int:\n",
    "        beneficio =0\n",
    "        for item in self.objetos:\n",
    "             beneficio += item.beneficio\n",
    "        return  beneficio  \n",
    "    def aceptaObjeto(self, item: ObjetoMochila)->bool:\n",
    "        capOcupada = self.capacidadOcupada()\n",
    "        return (capOcupada + item.peso) < self.capacidadMaxima\n",
    "    def ponerObjeto(self, item : ObjetoMochila)-> bool:\n",
    "        capOcupada = self.capacidadOcupada()\n",
    "        if ( capOcupada + item.peso > self.capacidadMaxima):\n",
    "            print(\"mochila llena\")\n",
    "            return False\n",
    "        else:    \n",
    "            self.objetos.append(item)     \n",
    "            return True\n",
    "    def __str__(self) -> str:\n",
    "        st=\"\"\n",
    "        length = len(self.objetos)\n",
    "        if ( length > 0):\n",
    "            st=\"[\"\n",
    "            i=0\n",
    "            \n",
    "            while ( i < length):\n",
    "                st=st+ str(self.objetos[i])\n",
    "                if ( i +1 < length):\n",
    "                    st=st+\";\"\n",
    "                i+=1\n",
    "            st=st+\"]\"\n",
    "        else:\n",
    "            st=\"[]\"\n",
    "        return st        \n",
    "    def cantidadObjetos(self)->int:\n",
    "        return len(self.objetos)\n",
    "    def quitarUltimo(self)->ObjetoMochila:\n",
    "        if len(self.objetos)> 0:\n",
    "            return self.objetos.pop()\n",
    "        \n",
    "    def quitarObjeto(self,item: ObjetoMochila)->ObjetoMochila:\n",
    "        return self.objetos.remove(item)    \n",
    "    def crearClone(self)->any:\n",
    "        return copy.deepcopy(self)\n",
    "    def rendimiento(self)->str:\n",
    "        return f\"Beneficio total : {self.beneficioTotal()} capacidad ocupada {self.capacidadOcupada()}\"\n",
    "    def limpiar(self)->None:\n",
    "        self.objetos  = []"
   ]
  },
  {
   "cell_type": "markdown",
   "metadata": {},
   "source": [
    "![\"objetos\"](image.png)"
   ]
  },
  {
   "cell_type": "code",
   "execution_count": 45,
   "metadata": {},
   "outputs": [],
   "source": [
    "e1=  ObjetoMochila(\"Articulos de aseo\",10,5)\n",
    "e2=  ObjetoMochila(\"Osito de peluche\" ,4,3)\n",
    "e3=  ObjetoMochila(\"Alimentos\" ,20,15)\n",
    "e4=  ObjetoMochila(\"Videojuego\" ,6,3)\n",
    "e5=  ObjetoMochila(\"Platos y cubiertos\" ,8,4)\n",
    "e6=  ObjetoMochila(\"AbreLatas\" ,1,1)\n",
    "e7=  ObjetoMochila(\"Libro\" ,15,9)\n",
    "e8=  ObjetoMochila(\"Telefono Celular\" ,2,2)\n",
    "e7=  ObjetoMochila(\"Encendedor\" ,6,3)\n",
    "e8=  ObjetoMochila(\"Reloj\" ,5,3)\n",
    "e9=  ObjetoMochila(\"Navaja\" ,10,4)\n",
    "e10=  ObjetoMochila(\"Ropa\" ,10,7)"
   ]
  },
  {
   "cell_type": "code",
   "execution_count": 46,
   "metadata": {},
   "outputs": [
    {
     "name": "stdout",
     "output_type": "stream",
     "text": [
      "mochila llena\n",
      "[Articulos de aseo >> beneficio : 10 peso : 5;Osito de peluche >> beneficio : 4 peso : 3;Alimentos >> beneficio : 20 peso : 15;Videojuego >> beneficio : 6 peso : 3;Platos y cubiertos >> beneficio : 8 peso : 4]\n",
      "48\n",
      "30\n"
     ]
    }
   ],
   "source": [
    "mochila = Mochila(30)\n",
    "mochila.ponerObjeto(e1)\n",
    "mochila.ponerObjeto(e2)\n",
    "mochila.ponerObjeto(e3)\n",
    "mochila.ponerObjeto(e4)\n",
    "mochila.ponerObjeto(e5)\n",
    "mochila.ponerObjeto(e6)\n",
    "print(mochila)\n",
    "print( mochila.beneficioTotal())\n",
    "print( mochila.capacidadOcupada())"
   ]
  },
  {
   "cell_type": "code",
   "execution_count": 47,
   "metadata": {},
   "outputs": [],
   "source": [
    "candidatos = [e1,e2,e3,e4,e5,e6,e7,e8,e9,e10]\n",
    "m2 =  Mochila(30)"
   ]
  },
  {
   "cell_type": "markdown",
   "metadata": {},
   "source": [
    "![backtracking.jpg](backtracking.jpg)"
   ]
  },
  {
   "cell_type": "code",
   "execution_count": 48,
   "metadata": {},
   "outputs": [],
   "source": [
    "class Voraz:\n",
    "    def __init__(self,mochila: Mochila ) -> None:\n",
    "        self.mochila = mochila\n",
    "    def backtrack(self,lista: list, sol:list)->Mochila:\n",
    "        length = len(lista)\n",
    "        if length == 0:\n",
    "            return self.mochila\n",
    "        else:\n",
    "            for i in range(length):\n",
    "               candidato  = lista[i]\n",
    "               if self.mochila.aceptaObjeto(candidato):\n",
    "                  self.mochila.ponerObjeto(candidato)\n",
    "                  lista.remove(candidato)\n",
    "                  return self.backtrack(lista,sol)\n",
    "               else:\n",
    "                   mx = self.mochila.crearClone()\n",
    "                   sol.append(mx)\n",
    "                   self.mochila.quitarUltimo()\n",
    "                   return self.backtrack(lista,sol)\n",
    "               \n",
    "\n",
    "    def buscarMenorPesoMayorBeneficio(self,lista:list)->ObjetoMochila:\n",
    "        return lista.pop()\n",
    "\n",
    "   \n",
    "\n",
    "    def imprimirMochila(self)-> None:\n",
    "        print(self.mochila)\n",
    "    def imprimirListaExterna(self,lista: list):\n",
    "        st=\"\"\n",
    "        length = len(lista)\n",
    "        if ( length > 0):\n",
    "            st=\"[\"\n",
    "            i=0\n",
    "            \n",
    "            while ( i < length):\n",
    "                st=st+ str(lista[i])\n",
    "                if ( i +1 < length):\n",
    "                    st=st+\";\"\n",
    "                i+=1\n",
    "            st=st+\"]\"\n",
    "        else:\n",
    "            st=\"[]\"\n",
    "        print(st)    \n",
    "    def reiniciar(self)->None:\n",
    "        self.mochila.limpiar()    "
   ]
  },
  {
   "cell_type": "code",
   "execution_count": 49,
   "metadata": {},
   "outputs": [],
   "source": [
    "\n",
    "solucionador = Voraz(m2)"
   ]
  },
  {
   "cell_type": "code",
   "execution_count": 54,
   "metadata": {},
   "outputs": [
    {
     "name": "stdout",
     "output_type": "stream",
     "text": [
      "10\n",
      "[Articulos de aseo >> beneficio : 10 peso : 5;Osito de peluche >> beneficio : 4 peso : 3;Alimentos >> beneficio : 20 peso : 15;Videojuego >> beneficio : 6 peso : 3;Platos y cubiertos >> beneficio : 8 peso : 4;AbreLatas >> beneficio : 1 peso : 1;Encendedor >> beneficio : 6 peso : 3;Reloj >> beneficio : 5 peso : 3;Navaja >> beneficio : 10 peso : 4;Ropa >> beneficio : 10 peso : 7]\n",
      "10\n",
      "[Alimentos >> beneficio : 20 peso : 15;Ropa >> beneficio : 10 peso : 7;Articulos de aseo >> beneficio : 10 peso : 5;Platos y cubiertos >> beneficio : 8 peso : 4;Navaja >> beneficio : 10 peso : 4;Osito de peluche >> beneficio : 4 peso : 3;Videojuego >> beneficio : 6 peso : 3;Encendedor >> beneficio : 6 peso : 3;Reloj >> beneficio : 5 peso : 3;AbreLatas >> beneficio : 1 peso : 1]\n",
      "[Alimentos >> beneficio : 20 peso : 15;Ropa >> beneficio : 10 peso : 7;Articulos de aseo >> beneficio : 10 peso : 5]\n",
      "Beneficio total : 40 capacidad ocupada 27\n",
      "****************************************************************************************************\n",
      "[Alimentos >> beneficio : 20 peso : 15;Ropa >> beneficio : 10 peso : 7;Platos y cubiertos >> beneficio : 8 peso : 4]\n",
      "Beneficio total : 38 capacidad ocupada 26\n",
      "****************************************************************************************************\n",
      "[Alimentos >> beneficio : 20 peso : 15;Ropa >> beneficio : 10 peso : 7;Navaja >> beneficio : 10 peso : 4;Osito de peluche >> beneficio : 4 peso : 3]\n",
      "Beneficio total : 44 capacidad ocupada 29\n",
      "****************************************************************************************************\n",
      "[Alimentos >> beneficio : 20 peso : 15;Ropa >> beneficio : 10 peso : 7;Navaja >> beneficio : 10 peso : 4;Videojuego >> beneficio : 6 peso : 3]\n",
      "Beneficio total : 46 capacidad ocupada 29\n",
      "****************************************************************************************************\n",
      "[Alimentos >> beneficio : 20 peso : 15;Ropa >> beneficio : 10 peso : 7;Navaja >> beneficio : 10 peso : 4;Encendedor >> beneficio : 6 peso : 3]\n",
      "Beneficio total : 46 capacidad ocupada 29\n",
      "****************************************************************************************************\n",
      "[Alimentos >> beneficio : 20 peso : 15;Ropa >> beneficio : 10 peso : 7;Navaja >> beneficio : 10 peso : 4;Reloj >> beneficio : 5 peso : 3]\n",
      "Beneficio total : 45 capacidad ocupada 29\n",
      "****************************************************************************************************\n"
     ]
    }
   ],
   "source": [
    "l2 = copy.copy(candidatos)\n",
    "l3 = copy.copy(candidatos)\n",
    "sol = []\n",
    "l3.sort( key =lambda e: e.peso ,reverse=True)\n",
    "print(len(l2))\n",
    "solucionador.imprimirListaExterna(l2)\n",
    "print(len(l3))\n",
    "solucionador.imprimirListaExterna(l3)\n",
    "solucionador.backtrack(l3,sol)\n",
    "for l in sol:\n",
    "    print(l)\n",
    "    print(l.rendimiento())\n",
    "    print(\"**\"*50)\n",
    "solucionador.reiniciar()    "
   ]
  }
 ],
 "metadata": {
  "kernelspec": {
   "display_name": "Python 3",
   "language": "python",
   "name": "python3"
  },
  "language_info": {
   "codemirror_mode": {
    "name": "ipython",
    "version": 3
   },
   "file_extension": ".py",
   "mimetype": "text/x-python",
   "name": "python",
   "nbconvert_exporter": "python",
   "pygments_lexer": "ipython3",
   "version": "3.12.1"
  }
 },
 "nbformat": 4,
 "nbformat_minor": 2
}

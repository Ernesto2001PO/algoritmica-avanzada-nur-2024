{
 "cells": [
  {
   "cell_type": "code",
   "execution_count": 1,
   "metadata": {},
   "outputs": [],
   "source": [
    "import networkx as nx\n",
    "import pandas as pd\n",
    "import warnings\n",
    "import matplotlib.pyplot as plt"
   ]
  },
  {
   "cell_type": "code",
   "execution_count": 2,
   "metadata": {},
   "outputs": [
    {
     "name": "stdout",
     "output_type": "stream",
     "text": [
      "Graph with 0 nodes and 0 edges\n"
     ]
    }
   ],
   "source": [
    "G = nx.Graph()\n",
    "print(G)"
   ]
  },
  {
   "cell_type": "code",
   "execution_count": 3,
   "metadata": {},
   "outputs": [
    {
     "data": {
      "text/plain": [
       "False"
      ]
     },
     "execution_count": 3,
     "metadata": {},
     "output_type": "execute_result"
    }
   ],
   "source": [
    "G.is_directed()"
   ]
  },
  {
   "cell_type": "code",
   "execution_count": 4,
   "metadata": {},
   "outputs": [
    {
     "name": "stdout",
     "output_type": "stream",
     "text": [
      "Graph with 1 nodes and 0 edges\n"
     ]
    },
    {
     "data": {
      "image/png": "[encoded data removed]",
      "text/plain": [
       "<Figure size 100x100 with 1 Axes>"
      ]
     },
     "metadata": {},
     "output_type": "display_data"
    }
   ],
   "source": [
    "fig, ax = plt.subplots(figsize=(1,1))\n",
    "G.add_node(\"A\")\n",
    "nx.draw(G, with_labels=True, ax=ax)\n",
    "print(G)"
   ]
  },
  {
   "cell_type": "code",
   "execution_count": 5,
   "metadata": {},
   "outputs": [
    {
     "name": "stdout",
     "output_type": "stream",
     "text": [
      "Graph with 3 nodes and 0 edges\n"
     ]
    },
    {
     "data": {
      "image/png": "[encoded data removed]",
      "text/plain": [
       "<Figure size 300x200 with 1 Axes>"
      ]
     },
     "metadata": {},
     "output_type": "display_data"
    }
   ],
   "source": [
    "G.add_nodes_from([\"B\", \"C\"])\n",
    "\n",
    "fig, ax = plt.subplots(figsize=(3, 2))\n",
    "nx.draw(G, with_labels=True, ax=ax)\n",
    "ax.set_xlim([1.2*x for x in ax.get_xlim()])\n",
    "ax.set_ylim([1.2*y for y in ax.get_ylim()])\n",
    "print(G)"
   ]
  },
  {
   "cell_type": "code",
   "execution_count": 6,
   "metadata": {},
   "outputs": [
    {
     "name": "stdout",
     "output_type": "stream",
     "text": [
      "Graph with 3 nodes and 1 edges\n"
     ]
    },
    {
     "data": {
      "image/png": "[encoded data removed]",
      "text/plain": [
       "<Figure size 300x200 with 1 Axes>"
      ]
     },
     "metadata": {},
     "output_type": "display_data"
    }
   ],
   "source": [
    "G.add_edge(\"A\", \"B\")\n",
    "\n",
    "fig, ax = plt.subplots(figsize=(3, 2))\n",
    "nx.draw(G, with_labels=True, ax=ax)\n",
    "ax.set_xlim([1.2*x for x in ax.get_xlim()])\n",
    "ax.set_ylim([1.2*y for y in ax.get_ylim()])\n",
    "print(G)"
   ]
  },
  {
   "cell_type": "code",
   "execution_count": 7,
   "metadata": {},
   "outputs": [
    {
     "name": "stdout",
     "output_type": "stream",
     "text": [
      "Graph with 3 nodes and 3 edges\n"
     ]
    },
    {
     "data": {
      "image/png": "[encoded data removed]",
      "text/plain": [
       "<Figure size 300x200 with 1 Axes>"
      ]
     },
     "metadata": {},
     "output_type": "display_data"
    }
   ],
   "source": [
    "G.add_edges_from([(\"A\", \"C\"), (\"B\", \"C\")])\n",
    "\n",
    "fig, ax = plt.subplots(figsize=(3, 2))\n",
    "nx.draw(G, with_labels=True, ax=ax)\n",
    "ax.set_xlim([1.2*x for x in ax.get_xlim()])\n",
    "ax.set_ylim([1.2*y for y in ax.get_ylim()])\n",
    "print(G)"
   ]
  },
  {
   "cell_type": "code",
   "execution_count": 8,
   "metadata": {},
   "outputs": [
    {
     "name": "stdout",
     "output_type": "stream",
     "text": [
      "Graph with 6 nodes and 5 edges\n"
     ]
    },
    {
     "data": {
      "image/png": "[encoded data removed]",
      "text/plain": [
       "<Figure size 400x400 with 1 Axes>"
      ]
     },
     "metadata": {},
     "output_type": "display_data"
    }
   ],
   "source": [
    "G.add_edges_from([(\"D\", \"E\"), (\"E\", \"F\")])\n",
    "\n",
    "fig, ax = plt.subplots(figsize=(4, 4))\n",
    "nx.draw(G, with_labels=True, ax=ax)\n",
    "ax.set_xlim([1.2*x for x in ax.get_xlim()])\n",
    "ax.set_ylim([1.2*y for y in ax.get_ylim()])\n",
    "print(G)"
   ]
  },
  {
   "cell_type": "code",
   "execution_count": 9,
   "metadata": {},
   "outputs": [
    {
     "data": {
      "text/plain": [
       "array([[0, 1, 1, 0, 0, 0],\n",
       "       [1, 0, 1, 0, 0, 0],\n",
       "       [1, 1, 0, 0, 0, 0],\n",
       "       [0, 0, 0, 0, 1, 0],\n",
       "       [0, 0, 0, 1, 0, 1],\n",
       "       [0, 0, 0, 0, 1, 0]])"
      ]
     },
     "execution_count": 9,
     "metadata": {},
     "output_type": "execute_result"
    }
   ],
   "source": [
    "adjM = nx.adjacency_matrix(G)\n",
    "\n",
    "# Se convierte la matriz de formato sparse a dense para poder imprimirla\n",
    "adjM = adjM.todense()\n",
    "adjM"
   ]
  },
  {
   "cell_type": "code",
   "execution_count": 10,
   "metadata": {},
   "outputs": [
    {
     "name": "stdout",
     "output_type": "stream",
     "text": [
      "5\n",
      "6\n"
     ]
    }
   ],
   "source": [
    "print(G.number_of_edges())\n",
    "print(G.number_of_nodes())"
   ]
  },
  {
   "cell_type": "code",
   "execution_count": 22,
   "metadata": {},
   "outputs": [
    {
     "name": "stdout",
     "output_type": "stream",
     "text": [
      "Nodos del grafo: ['A', 'B', 'C', 'D']\n",
      "Ejes del grafo: [('A', 'B'), ('A', 'C'), ('B', 'C'), ('C', 'D')]\n"
     ]
    }
   ],
   "source": [
    "print(f\"Nodos del grafo: {G.nodes}\")\n",
    "print(f\"Ejes del grafo: {G.edges}\")"
   ]
  },
  {
   "cell_type": "code",
   "execution_count": 11,
   "metadata": {},
   "outputs": [
    {
     "data": {
      "text/html": [
       "<div>\n",
       "<style scoped>\n",
       "    .dataframe tbody tr th:only-of-type {\n",
       "        vertical-align: middle;\n",
       "    }\n",
       "\n",
       "    .dataframe tbody tr th {\n",
       "        vertical-align: top;\n",
       "    }\n",
       "\n",
       "    .dataframe thead th {\n",
       "        text-align: right;\n",
       "    }\n",
       "</style>\n",
       "<table border=\"1\" class=\"dataframe\">\n",
       "  <thead>\n",
       "    <tr style=\"text-align: right;\">\n",
       "      <th></th>\n",
       "      <th>inicio</th>\n",
       "      <th>fin</th>\n",
       "    </tr>\n",
       "  </thead>\n",
       "  <tbody>\n",
       "    <tr>\n",
       "      <th>0</th>\n",
       "      <td>A</td>\n",
       "      <td>C</td>\n",
       "    </tr>\n",
       "    <tr>\n",
       "      <th>1</th>\n",
       "      <td>B</td>\n",
       "      <td>C</td>\n",
       "    </tr>\n",
       "    <tr>\n",
       "      <th>2</th>\n",
       "      <td>C</td>\n",
       "      <td>D</td>\n",
       "    </tr>\n",
       "  </tbody>\n",
       "</table>\n",
       "</div>"
      ],
      "text/plain": [
       "  inicio fin\n",
       "0      A   C\n",
       "1      B   C\n",
       "2      C   D"
      ]
     },
     "execution_count": 11,
     "metadata": {},
     "output_type": "execute_result"
    }
   ],
   "source": [
    "conexiones = pd.DataFrame(\n",
    "    {\n",
    "        \"inicio\": [\"A\", \"B\", \"C\"],\n",
    "        \"fin\": [\"C\", \"C\", \"D\"],\n",
    "    }\n",
    ")\n",
    "conexiones"
   ]
  },
  {
   "cell_type": "code",
   "execution_count": 12,
   "metadata": {},
   "outputs": [
    {
     "data": {
      "image/png": "[encoded data removed]",
      "text/plain": [
       "<Figure size 300x200 with 1 Axes>"
      ]
     },
     "metadata": {},
     "output_type": "display_data"
    }
   ],
   "source": [
    "fig, ax = plt.subplots(figsize=(3,2))\n",
    "G = nx.from_pandas_edgelist(conexiones, source=\"inicio\", target=\"fin\")\n",
    "nx.draw(G, with_labels=True, ax=ax)"
   ]
  },
  {
   "cell_type": "code",
   "execution_count": 23,
   "metadata": {},
   "outputs": [
    {
     "data": {
      "image/png": "[encoded data removed]",
      "text/plain": [
       "<Figure size 300x200 with 1 Axes>"
      ]
     },
     "metadata": {},
     "output_type": "display_data"
    }
   ],
   "source": [
    "# Creación de un grafo dirigido\".\n",
    "# ======================================================================================\n",
    "G = nx.DiGraph()\n",
    "\n",
    "# Conexiones\n",
    "G.add_edges_from([(1, 2), (2, 3), (1, 4), (1, 5), (4, 2), (5, 4)])\n",
    "\n",
    "# Representación gráfica\n",
    "fig, ax = plt.subplots(figsize=(3,2))\n",
    "nx.draw(G, with_labels=True, ax=ax)"
   ]
  },
  {
   "cell_type": "code",
   "execution_count": 24,
   "metadata": {},
   "outputs": [
    {
     "data": {
      "text/plain": [
       "EdgeDataView([('A', 'B', {'weight': 0.5}), ('A', 'D', {'weight': 0.1}), ('A', 'E', {'weight': 0.75}), ('B', 'C', {'weight': 0.9}), ('B', 'D', {'weight': 0.01}), ('D', 'E', {'weight': 0.3})])"
      ]
     },
     "execution_count": 24,
     "metadata": {},
     "output_type": "execute_result"
    }
   ],
   "source": [
    "G = nx.Graph()\n",
    "\n",
    "# Nodos y conexiones\n",
    "G.add_weighted_edges_from(\n",
    "    [(\"A\", \"B\", 0.5),\n",
    "    (\"B\", \"C\", 0.9),\n",
    "    (\"A\", \"D\", 0.1),\n",
    "    (\"A\", \"E\", 0.75),\n",
    "    (\"D\", \"B\", 0.01),\n",
    "    (\"E\", \"D\", 0.3)]\n",
    ")\n",
    "G.edges(data=True)"
   ]
  },
  {
   "cell_type": "code",
   "execution_count": 14,
   "metadata": {},
   "outputs": [
    {
     "data": {
      "text/plain": [
       "False"
      ]
     },
     "execution_count": 14,
     "metadata": {},
     "output_type": "execute_result"
    }
   ],
   "source": [
    "G.is_directed()"
   ]
  },
  {
   "cell_type": "code",
   "execution_count": 15,
   "metadata": {},
   "outputs": [
    {
     "data": {
      "text/plain": [
       "True"
      ]
     },
     "execution_count": 15,
     "metadata": {},
     "output_type": "execute_result"
    }
   ],
   "source": [
    "nx.is_weighted(G)"
   ]
  },
  {
   "cell_type": "code",
   "execution_count": 16,
   "metadata": {},
   "outputs": [
    {
     "data": {
      "text/plain": [
       "[('A', 'B', {'weight': 0.5}),\n",
       " ('A', 'D', {'weight': 0.1}),\n",
       " ('A', 'E', {'weight': 0.75}),\n",
       " ('B', 'C', {'weight': 0.9}),\n",
       " ('B', 'D', {'weight': 0.01}),\n",
       " ('D', 'E', {'weight': 0.3})]"
      ]
     },
     "execution_count": 16,
     "metadata": {},
     "output_type": "execute_result"
    }
   ],
   "source": [
    "[a for a in G.edges(data=True)]"
   ]
  },
  {
   "cell_type": "code",
   "execution_count": 17,
   "metadata": {},
   "outputs": [
    {
     "data": {
      "text/plain": [
       "[0.5, 0.1, 0.75, 0.9, 0.01, 0.3]"
      ]
     },
     "execution_count": 17,
     "metadata": {},
     "output_type": "execute_result"
    }
   ],
   "source": [
    "weights = [a[2][\"weight\"] for a in G.edges(data=True)]\n",
    "weights"
   ]
  },
  {
   "cell_type": "code",
   "execution_count": 18,
   "metadata": {},
   "outputs": [
    {
     "data": {
      "text/plain": [
       "<matplotlib.collections.LineCollection at 0x17995d8a8d0>"
      ]
     },
     "execution_count": 18,
     "metadata": {},
     "output_type": "execute_result"
    },
    {
     "data": {
      "image/png": "[encoded data removed]",
      "text/plain": [
       "<Figure size 300x200 with 1 Axes>"
      ]
     },
     "metadata": {},
     "output_type": "display_data"
    }
   ],
   "source": [
    "pos = nx.spring_layout(G)\n",
    "\n",
    "# Representar nodos y ejes\n",
    "fig, ax = plt.subplots(figsize=(3,2))\n",
    "nx.draw_networkx_nodes(\n",
    "    G,\n",
    "    pos = pos,\n",
    "    ax = ax\n",
    ")\n",
    "nx.draw_networkx_edges(\n",
    "    G,\n",
    "    pos = pos,\n",
    "    edgelist = G.edges,\n",
    "    width = weights,\n",
    "    ax = ax\n",
    ")"
   ]
  },
  {
   "cell_type": "code",
   "execution_count": 19,
   "metadata": {},
   "outputs": [
    {
     "data": {
      "text/plain": [
       "EdgeDataView([(1, 2, {'weight': 0.4}), (1, 3, {'weight': 0.9}), (1, 4, {'weight': 0.7}), (2, 3, {'weight': 0.4})])"
      ]
     },
     "execution_count": 19,
     "metadata": {},
     "output_type": "execute_result"
    }
   ],
   "source": [
    "GM = nx.Graph()\n",
    "\n",
    "# Nodos y vonexiones\n",
    "GM.add_weighted_edges_from(\n",
    "    [(1, 2, 0.5),\n",
    "     (1, 3, 0.9),\n",
    "     (2,3,0.4),\n",
    "     (2,1,0.4),\n",
    "     (1,4,0.7)]\n",
    ")\n",
    "GM.edges(data=True)"
   ]
  },
  {
   "cell_type": "code",
   "execution_count": 25,
   "metadata": {},
   "outputs": [
    {
     "data": {
      "text/plain": [
       "[0.5, 0.1, 0.75, 0.9, 0.01, 0.3]"
      ]
     },
     "execution_count": 25,
     "metadata": {},
     "output_type": "execute_result"
    }
   ],
   "source": [
    "weights = [a[2][\"weight\"] for a in G.edges(data=True)]\n",
    "weights"
   ]
  },
  {
   "cell_type": "code",
   "execution_count": 20,
   "metadata": {},
   "outputs": [
    {
     "data": {
      "text/plain": [
       "<matplotlib.collections.LineCollection at 0x17995e23310>"
      ]
     },
     "execution_count": 20,
     "metadata": {},
     "output_type": "execute_result"
    },
    {
     "data": {
      "image/png": "[encoded data removed]",
      "text/plain": [
       "<Figure size 300x200 with 1 Axes>"
      ]
     },
     "metadata": {},
     "output_type": "display_data"
    }
   ],
   "source": [
    "pos = nx.spring_layout(GM)\n",
    "\n",
    "# Representar nodos y ejes\n",
    "fig, ax = plt.subplots(figsize=(3,2))\n",
    "nx.draw_networkx_nodes(\n",
    "    GM,\n",
    "    pos = pos,\n",
    "    ax = ax\n",
    ")\n",
    "nx.draw_networkx_edges(\n",
    "    GM,\n",
    "    pos = pos,\n",
    "    edgelist = GM.edges,\n",
    "    width = weights,\n",
    "    ax = ax\n",
    ")"
   ]
  },
  {
   "cell_type": "code",
   "execution_count": 21,
   "metadata": {},
   "outputs": [
    {
     "data": {
      "image/png": "[encoded data removed]",
      "text/plain": [
       "<Figure size 640x480 with 1 Axes>"
      ]
     },
     "metadata": {},
     "output_type": "display_data"
    }
   ],
   "source": [
    "import networkx as nx\n",
    "import matplotlib.pyplot as plt\n",
    "\n",
    "# Create a sample graph\n",
    "G = nx.Graph()\n",
    "G.add_edges_from([('A', 'B', {'weight': 3}), ('A', 'C', {'weight': 2}),\n",
    "                 ('B', 'C', {'weight': 4}), ('C', 'D', {'weight': 1})])\n",
    "\n",
    "# Get edge weights and labels\n",
    "edge_labels = nx.get_edge_attributes(G, 'weight')\n",
    "\n",
    "# Create a spring layout for positions\n",
    "pos = nx.spring_layout(G)\n",
    "\n",
    "# Draw nodes and edges\n",
    "nx.draw_networkx_nodes(G, pos, node_size=700)\n",
    "nx.draw_networkx_edges(G, pos, width=1) \n",
    "\n",
    "nx.draw_networkx_labels(G, pos, font_size=10,\n",
    " font_family='sans-serif')\n",
    "\n",
    "# Draw edge labels\n",
    "nx.draw_networkx_edge_labels(G, pos, edge_labels=edge_labels)\n",
    "\n",
    "plt.axis('off')\n",
    "plt.show()"
   ]
  }
 ],
 "metadata": {
  "kernelspec": {
   "display_name": "Python 3",
   "language": "python",
   "name": "python3"
  },
  "language_info": {
   "codemirror_mode": {
    "name": "ipython",
    "version": 3
   },
   "file_extension": ".py",
   "mimetype": "text/x-python",
   "name": "python",
   "nbconvert_exporter": "python",
   "pygments_lexer": "ipython3",
   "version": "3.11.9"
  }
 },
 "nbformat": 4,
 "nbformat_minor": 2
}

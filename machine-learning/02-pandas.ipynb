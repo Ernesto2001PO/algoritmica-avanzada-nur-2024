{
 "cells": [
  {
   "cell_type": "markdown",
   "metadata": {},
   "source": [
    "1. ¿Qué es Pandas?\n",
    "Pandas es una librería de Python utilizada para el análisis de datos. Proporciona estructuras de datos y herramientas que facilitan la manipulación, limpieza y análisis de datos, especialmente cuando se trabaja con datos tabulares, como los encontrados en archivos CSV, Excel o bases de datos SQL."
   ]
  },
  {
   "cell_type": "code",
   "execution_count": 2,
   "metadata": {},
   "outputs": [
    {
     "name": "stdout",
     "output_type": "stream",
     "text": [
      "0    10\n",
      "1    20\n",
      "2    30\n",
      "3    40\n",
      "4    50\n",
      "dtype: int64\n"
     ]
    }
   ],
   "source": [
    "import pandas as pd\n",
    "\n",
    "# Crear una Serie simple\n",
    "serie = pd.Series([10, 20, 30, 40, 50])\n",
    "print(serie)\n"
   ]
  },
  {
   "cell_type": "markdown",
   "metadata": {},
   "source": [
    "2. Estructuras de Datos en Pandas"
   ]
  },
  {
   "cell_type": "code",
   "execution_count": 3,
   "metadata": {},
   "outputs": [
    {
     "name": "stdout",
     "output_type": "stream",
     "text": [
      "  Nombre  Edad     Ciudad\n",
      "0    Ana    23     Madrid\n",
      "1   Luis    35  Barcelona\n",
      "2  Pedro    45   Valencia\n",
      "3  María    36    Sevilla\n"
     ]
    }
   ],
   "source": [
    "data = {\n",
    "    'Nombre': ['Ana', 'Luis', 'Pedro', 'María'],\n",
    "    'Edad': [23, 35, 45, 36],\n",
    "    'Ciudad': ['Madrid', 'Barcelona', 'Valencia', 'Sevilla']\n",
    "}\n",
    "\n",
    "df = pd.DataFrame(data)\n",
    "print(df)"
   ]
  },
  {
   "cell_type": "markdown",
   "metadata": {},
   "source": [
    "Lectura de Datos: Pandas facilita la lectura de datos desde diferentes formatos (CSV, Excel, SQL, JSON).\n"
   ]
  },
  {
   "cell_type": "code",
   "execution_count": 10,
   "metadata": {},
   "outputs": [],
   "source": [
    "# Leer un archivo CSV\n",
    "df = pd.read_csv('ejemplo_data.csv')\n"
   ]
  },
  {
   "cell_type": "code",
   "execution_count": 12,
   "metadata": {},
   "outputs": [
    {
     "name": "stdout",
     "output_type": "stream",
     "text": [
      "       ID        Nombre         2016          2017 Crecimiento Unidades  \\\n",
      "0   10002     Verde Mar  $125,000.00    $162500.00      30.00%      500   \n",
      "1  552278  Manantial sa  $920,000.00  $101,2000.00      10.00%      700   \n",
      "2   23477          ACME   $50,000.00      62500.00      25.00%      125   \n",
      "3   24900     Andes sur  $350,000.00     490000.00       4.00%       75   \n",
      "4  651029     San Pablo   $15,000.00     $12750.00     -15.00%       No   \n",
      "\n",
      "        fecha Activo  \n",
      "0   1-10-2015      1  \n",
      "1   6-23-2014      0  \n",
      "2   3-12-2016      1  \n",
      "3  10-28-2015      1  \n",
      "4   2-15-2014      0  \n",
      "<class 'pandas.core.frame.DataFrame'>\n",
      "RangeIndex: 6 entries, 0 to 5\n",
      "Data columns (total 8 columns):\n",
      " #   Column       Non-Null Count  Dtype \n",
      "---  ------       --------------  ----- \n",
      " 0   ID           6 non-null      int64 \n",
      " 1   Nombre       6 non-null      object\n",
      " 2   2016         6 non-null      object\n",
      " 3   2017         6 non-null      object\n",
      " 4   Crecimiento  6 non-null      object\n",
      " 5   Unidades     6 non-null      object\n",
      " 6   fecha        6 non-null      object\n",
      " 7   Activo       6 non-null      object\n",
      "dtypes: int64(1), object(7)\n",
      "memory usage: 516.0+ bytes\n",
      "None\n",
      "                  ID\n",
      "count       6.000000\n",
      "mean   318785.833333\n",
      "std    329913.104103\n",
      "min     10002.000000\n",
      "25%     23832.750000\n",
      "50%    288589.000000\n",
      "75%    626341.250000\n",
      "max    651029.000000\n"
     ]
    }
   ],
   "source": [
    "print(df.head())  # Muestra las primeras 5 filas\n",
    "print(df.info())  # Muestra un resumen del DataFrame\n",
    "print(df.describe())  # Estadísticas básicas\n"
   ]
  },
  {
   "cell_type": "markdown",
   "metadata": {},
   "source": [
    "Selección de columnas:"
   ]
  },
  {
   "cell_type": "code",
   "execution_count": 14,
   "metadata": {},
   "outputs": [],
   "source": [
    "nombres = df['Nombre']"
   ]
  },
  {
   "cell_type": "code",
   "execution_count": 15,
   "metadata": {},
   "outputs": [
    {
     "data": {
      "text/plain": [
       "0       Verde Mar\n",
       "1    Manantial sa\n",
       "2            ACME\n",
       "3       Andes sur\n",
       "4       San Pablo\n",
       "5       San Pablo\n",
       "Name: Nombre, dtype: object"
      ]
     },
     "execution_count": 15,
     "metadata": {},
     "output_type": "execute_result"
    }
   ],
   "source": [
    "nombres"
   ]
  },
  {
   "cell_type": "markdown",
   "metadata": {},
   "source": [
    "Selección de filas:"
   ]
  },
  {
   "cell_type": "code",
   "execution_count": 16,
   "metadata": {},
   "outputs": [],
   "source": [
    "primera_fila = df.iloc[0]  # Por índice\n",
    "segunda_fila = df.loc[1]   # Por etiqueta\n"
   ]
  }
 ],
 "metadata": {
  "kernelspec": {
   "display_name": "visioncomputer311",
   "language": "python",
   "name": "python3"
  },
  "language_info": {
   "codemirror_mode": {
    "name": "ipython",
    "version": 3
   },
   "file_extension": ".py",
   "mimetype": "text/x-python",
   "name": "python",
   "nbconvert_exporter": "python",
   "pygments_lexer": "ipython3",
   "version": "3.11.9"
  }
 },
 "nbformat": 4,
 "nbformat_minor": 2
}

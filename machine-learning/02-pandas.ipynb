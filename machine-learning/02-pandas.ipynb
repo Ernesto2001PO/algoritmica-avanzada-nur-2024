{
 "cells": [
  {
   "cell_type": "markdown",
   "metadata": {},
   "source": [
    "1. ¿Qué es Pandas?\n",
    "Pandas es una librería de Python utilizada para el análisis de datos. Proporciona estructuras de datos y herramientas que facilitan la manipulación, limpieza y análisis de datos, especialmente cuando se trabaja con datos tabulares, como los encontrados en archivos CSV, Excel o bases de datos SQL."
   ]
  },
  {
   "cell_type": "code",
   "execution_count": 2,
   "metadata": {},
   "outputs": [
    {
     "name": "stdout",
     "output_type": "stream",
     "text": [
      "0    10\n",
      "1    20\n",
      "2    30\n",
      "3    40\n",
      "4    50\n",
      "dtype: int64\n"
     ]
    }
   ],
   "source": [
    "import pandas as pd\n",
    "\n",
    "# Crear una Serie simple\n",
    "serie = pd.Series([10, 20, 30, 40, 50])\n",
    "print(serie)\n"
   ]
  },
  {
   "cell_type": "markdown",
   "metadata": {},
   "source": [
    "2. Estructuras de Datos en Pandas"
   ]
  },
  {
   "cell_type": "code",
   "execution_count": 3,
   "metadata": {},
   "outputs": [
    {
     "name": "stdout",
     "output_type": "stream",
     "text": [
      "  Nombre  Edad     Ciudad\n",
      "0    Ana    23     Madrid\n",
      "1   Luis    35  Barcelona\n",
      "2  Pedro    45   Valencia\n",
      "3  María    36    Sevilla\n"
     ]
    }
   ],
   "source": [
    "data = {\n",
    "    'Nombre': ['Ana', 'Luis', 'Pedro', 'María'],\n",
    "    'Edad': [23, 35, 45, 36],\n",
    "    'Ciudad': ['Madrid', 'Barcelona', 'Valencia', 'Sevilla']\n",
    "}\n",
    "\n",
    "df = pd.DataFrame(data)\n",
    "print(df)"
   ]
  },
  {
   "cell_type": "markdown",
   "metadata": {},
   "source": [
    "Lectura de Datos: Pandas facilita la lectura de datos desde diferentes formatos (CSV, Excel, SQL, JSON).\n"
   ]
  },
  {
   "cell_type": "code",
   "execution_count": 10,
   "metadata": {},
   "outputs": [],
   "source": [
    "# Leer un archivo CSV\n",
    "df = pd.read_csv('ejemplo_data.csv')\n"
   ]
  },
  {
   "cell_type": "code",
   "execution_count": 12,
   "metadata": {},
   "outputs": [
    {
     "name": "stdout",
     "output_type": "stream",
     "text": [
      "       ID        Nombre         2016          2017 Crecimiento Unidades  \\\n",
      "0   10002     Verde Mar  $125,000.00    $162500.00      30.00%      500   \n",
      "1  552278  Manantial sa  $920,000.00  $101,2000.00      10.00%      700   \n",
      "2   23477          ACME   $50,000.00      62500.00      25.00%      125   \n",
      "3   24900     Andes sur  $350,000.00     490000.00       4.00%       75   \n",
      "4  651029     San Pablo   $15,000.00     $12750.00     -15.00%       No   \n",
      "\n",
      "        fecha Activo  \n",
      "0   1-10-2015      1  \n",
      "1   6-23-2014      0  \n",
      "2   3-12-2016      1  \n",
      "3  10-28-2015      1  \n",
      "4   2-15-2014      0  \n",
      "<class 'pandas.core.frame.DataFrame'>\n",
      "RangeIndex: 6 entries, 0 to 5\n",
      "Data columns (total 8 columns):\n",
      " #   Column       Non-Null Count  Dtype \n",
      "---  ------       --------------  ----- \n",
      " 0   ID           6 non-null      int64 \n",
      " 1   Nombre       6 non-null      object\n",
      " 2   2016         6 non-null      object\n",
      " 3   2017         6 non-null      object\n",
      " 4   Crecimiento  6 non-null      object\n",
      " 5   Unidades     6 non-null      object\n",
      " 6   fecha        6 non-null      object\n",
      " 7   Activo       6 non-null      object\n",
      "dtypes: int64(1), object(7)\n",
      "memory usage: 516.0+ bytes\n",
      "None\n",
      "                  ID\n",
      "count       6.000000\n",
      "mean   318785.833333\n",
      "std    329913.104103\n",
      "min     10002.000000\n",
      "25%     23832.750000\n",
      "50%    288589.000000\n",
      "75%    626341.250000\n",
      "max    651029.000000\n"
     ]
    }
   ],
   "source": [
    "print(df.head())  # Muestra las primeras 5 filas\n",
    "print(df.info())  # Muestra un resumen del DataFrame\n",
    "print(df.describe())  # Estadísticas básicas\n"
   ]
  },
  {
   "cell_type": "markdown",
   "metadata": {},
   "source": [
    "Selección de columnas:"
   ]
  },
  {
   "cell_type": "code",
   "execution_count": 14,
   "metadata": {},
   "outputs": [],
   "source": [
    "nombres = df['Nombre']"
   ]
  },
  {
   "cell_type": "code",
   "execution_count": 15,
   "metadata": {},
   "outputs": [
    {
     "data": {
      "text/plain": [
       "0       Verde Mar\n",
       "1    Manantial sa\n",
       "2            ACME\n",
       "3       Andes sur\n",
       "4       San Pablo\n",
       "5       San Pablo\n",
       "Name: Nombre, dtype: object"
      ]
     },
     "execution_count": 15,
     "metadata": {},
     "output_type": "execute_result"
    }
   ],
   "source": [
    "nombres"
   ]
  },
  {
   "cell_type": "markdown",
   "metadata": {},
   "source": [
    "Selección de filas:"
   ]
  },
  {
   "cell_type": "code",
   "execution_count": 16,
   "metadata": {},
   "outputs": [],
   "source": [
    "primera_fila = df.iloc[0]  # Por índice\n",
    "segunda_fila = df.loc[1]   # Por etiqueta\n"
   ]
  },
  {
   "cell_type": "markdown",
   "metadata": {},
   "source": [
    "A.\tLectura y análisis exploratorio de datos<br>\n",
    "a.\tAbrir Google Colab o Jupyter Notebook.<br>\n",
    "b.\tImporte (e instale en caso de ser necesario) librería pandas.<br>\n",
    "c.\tCargar la base de datos de nombre ejemplo_data.csv. Explorar las diferentes opciones de read que tiene disponible la librería Pandas, identificando los argumentos disponibles en cada una de ellas.<br>\n",
    "d.\tIdentifique los tipos de variables que hay disponibles en la base de datos (df.types o df.info()).<br>\n",
    "e.\tUtilizando la función astype, transforme el atributo ID a entero y el atributo activo a binario. Vuelva a consultar el estado de las variables.<br>\n",
    "f.\tConvierta el atributo unidades a entero y 2016 a flotante.<br>"
   ]
  },
  {
   "cell_type": "code",
   "execution_count": 17,
   "metadata": {},
   "outputs": [],
   "source": [
    "df1 = pd.read_csv('ejemplo_data.csv')\n",
    "df2 = pd.read_csv( 'ejemplo_data.csv',sep=',')\n",
    "df3 = pd.read_csv('ejemplo_data.csv' , sep=',',header=0, names=['ID','Nombres','2016','2017','Crecimiento','Unidades','fecha','Activos'])"
   ]
  },
  {
   "cell_type": "code",
   "execution_count": 18,
   "metadata": {},
   "outputs": [
    {
     "name": "stdout",
     "output_type": "stream",
     "text": [
      "<class 'pandas.core.frame.DataFrame'>\n",
      "RangeIndex: 6 entries, 0 to 5\n",
      "Data columns (total 8 columns):\n",
      " #   Column       Non-Null Count  Dtype \n",
      "---  ------       --------------  ----- \n",
      " 0   ID           6 non-null      int64 \n",
      " 1   Nombre       6 non-null      object\n",
      " 2   2016         6 non-null      object\n",
      " 3   2017         6 non-null      object\n",
      " 4   Crecimiento  6 non-null      object\n",
      " 5   Unidades     6 non-null      object\n",
      " 6   fecha        6 non-null      object\n",
      " 7   Activo       6 non-null      object\n",
      "dtypes: int64(1), object(7)\n",
      "memory usage: 516.0+ bytes\n"
     ]
    }
   ],
   "source": [
    "df1.info()"
   ]
  },
  {
   "cell_type": "code",
   "execution_count": 19,
   "metadata": {},
   "outputs": [
    {
     "data": {
      "text/plain": [
       "ID              int64\n",
       "Nombre         object\n",
       "2016           object\n",
       "2017           object\n",
       "Crecimiento    object\n",
       "Unidades       object\n",
       "fecha          object\n",
       "Activo         object\n",
       "dtype: object"
      ]
     },
     "execution_count": 19,
     "metadata": {},
     "output_type": "execute_result"
    }
   ],
   "source": [
    "df2.dtypes"
   ]
  },
  {
   "cell_type": "code",
   "execution_count": 20,
   "metadata": {},
   "outputs": [
    {
     "name": "stdout",
     "output_type": "stream",
     "text": [
      "<class 'pandas.core.frame.DataFrame'>\n",
      "RangeIndex: 6 entries, 0 to 5\n",
      "Data columns (total 8 columns):\n",
      " #   Column       Non-Null Count  Dtype \n",
      "---  ------       --------------  ----- \n",
      " 0   ID           6 non-null      int32 \n",
      " 1   Nombre       6 non-null      object\n",
      " 2   2016         6 non-null      object\n",
      " 3   2017         6 non-null      object\n",
      " 4   Crecimiento  6 non-null      object\n",
      " 5   Unidades     6 non-null      object\n",
      " 6   fecha        6 non-null      object\n",
      " 7   Activo       6 non-null      bool  \n",
      "dtypes: bool(1), int32(1), object(6)\n",
      "memory usage: 450.0+ bytes\n"
     ]
    }
   ],
   "source": [
    "df1['ID']=df1['ID'].astype(int)\n",
    "df1['Activo']=df1['Activo'].astype(bool)\n",
    "df1.info()"
   ]
  },
  {
   "cell_type": "code",
   "execution_count": 21,
   "metadata": {},
   "outputs": [],
   "source": [
    "def convertirAEntero(valor :object):\n",
    "    nuevo=0\n",
    "    if (isinstance(valor,int)):\n",
    "        nuevo = valor\n",
    "    elif(isinstance(valor,float)):\n",
    "        nuevo =  int(valor)\n",
    "    else :\n",
    "        try:\n",
    "         #\n",
    "         nuevo = int(valor)   \n",
    "        except Exception as error:\n",
    "            print(error)    \n",
    "    return nuevo"
   ]
  },
  {
   "cell_type": "code",
   "execution_count": 22,
   "metadata": {},
   "outputs": [
    {
     "name": "stdout",
     "output_type": "stream",
     "text": [
      "invalid literal for int() with base 10: 'No'\n",
      "invalid literal for int() with base 10: 'No'\n"
     ]
    },
    {
     "data": {
      "text/html": [
       "<div>\n",
       "<style scoped>\n",
       "    .dataframe tbody tr th:only-of-type {\n",
       "        vertical-align: middle;\n",
       "    }\n",
       "\n",
       "    .dataframe tbody tr th {\n",
       "        vertical-align: top;\n",
       "    }\n",
       "\n",
       "    .dataframe thead th {\n",
       "        text-align: right;\n",
       "    }\n",
       "</style>\n",
       "<table border=\"1\" class=\"dataframe\">\n",
       "  <thead>\n",
       "    <tr style=\"text-align: right;\">\n",
       "      <th></th>\n",
       "      <th>ID</th>\n",
       "      <th>Nombre</th>\n",
       "      <th>2016</th>\n",
       "      <th>2017</th>\n",
       "      <th>Crecimiento</th>\n",
       "      <th>Unidades</th>\n",
       "      <th>fecha</th>\n",
       "      <th>Activo</th>\n",
       "    </tr>\n",
       "  </thead>\n",
       "  <tbody>\n",
       "    <tr>\n",
       "      <th>0</th>\n",
       "      <td>10002</td>\n",
       "      <td>Verde Mar</td>\n",
       "      <td>$125,000.00</td>\n",
       "      <td>$162500.00</td>\n",
       "      <td>30.00%</td>\n",
       "      <td>500</td>\n",
       "      <td>1-10-2015</td>\n",
       "      <td>True</td>\n",
       "    </tr>\n",
       "    <tr>\n",
       "      <th>1</th>\n",
       "      <td>552278</td>\n",
       "      <td>Manantial sa</td>\n",
       "      <td>$920,000.00</td>\n",
       "      <td>$101,2000.00</td>\n",
       "      <td>10.00%</td>\n",
       "      <td>700</td>\n",
       "      <td>6-23-2014</td>\n",
       "      <td>True</td>\n",
       "    </tr>\n",
       "    <tr>\n",
       "      <th>2</th>\n",
       "      <td>23477</td>\n",
       "      <td>ACME</td>\n",
       "      <td>$50,000.00</td>\n",
       "      <td>62500.00</td>\n",
       "      <td>25.00%</td>\n",
       "      <td>125</td>\n",
       "      <td>3-12-2016</td>\n",
       "      <td>True</td>\n",
       "    </tr>\n",
       "    <tr>\n",
       "      <th>3</th>\n",
       "      <td>24900</td>\n",
       "      <td>Andes sur</td>\n",
       "      <td>$350,000.00</td>\n",
       "      <td>490000.00</td>\n",
       "      <td>4.00%</td>\n",
       "      <td>75</td>\n",
       "      <td>10-28-2015</td>\n",
       "      <td>True</td>\n",
       "    </tr>\n",
       "    <tr>\n",
       "      <th>4</th>\n",
       "      <td>651029</td>\n",
       "      <td>San Pablo</td>\n",
       "      <td>$15,000.00</td>\n",
       "      <td>$12750.00</td>\n",
       "      <td>-15.00%</td>\n",
       "      <td>0</td>\n",
       "      <td>2-15-2014</td>\n",
       "      <td>True</td>\n",
       "    </tr>\n",
       "    <tr>\n",
       "      <th>5</th>\n",
       "      <td>651029</td>\n",
       "      <td>San Pablo</td>\n",
       "      <td>-$15,000.00</td>\n",
       "      <td>$ 12750.00</td>\n",
       "      <td>-15.00%</td>\n",
       "      <td>0</td>\n",
       "      <td>2-15-2014</td>\n",
       "      <td>True</td>\n",
       "    </tr>\n",
       "  </tbody>\n",
       "</table>\n",
       "</div>"
      ],
      "text/plain": [
       "       ID        Nombre         2016          2017 Crecimiento  Unidades  \\\n",
       "0   10002     Verde Mar  $125,000.00    $162500.00      30.00%       500   \n",
       "1  552278  Manantial sa  $920,000.00  $101,2000.00      10.00%       700   \n",
       "2   23477          ACME   $50,000.00      62500.00      25.00%       125   \n",
       "3   24900     Andes sur  $350,000.00     490000.00       4.00%        75   \n",
       "4  651029     San Pablo   $15,000.00     $12750.00     -15.00%         0   \n",
       "5  651029     San Pablo  -$15,000.00    $ 12750.00     -15.00%         0   \n",
       "\n",
       "        fecha  Activo  \n",
       "0   1-10-2015    True  \n",
       "1   6-23-2014    True  \n",
       "2   3-12-2016    True  \n",
       "3  10-28-2015    True  \n",
       "4   2-15-2014    True  \n",
       "5   2-15-2014    True  "
      ]
     },
     "execution_count": 22,
     "metadata": {},
     "output_type": "execute_result"
    }
   ],
   "source": [
    "df1[\"Unidades\"] = df1[\"Unidades\"].apply(convertirAEntero)\n",
    "df1.head(6)"
   ]
  },
  {
   "cell_type": "code",
   "execution_count": 23,
   "metadata": {},
   "outputs": [],
   "source": [
    "def convertirAFloat(valor :object):\n",
    "    nuevo=0.0\n",
    "    if(isinstance(valor,float)):\n",
    "        nuevo =  valor\n",
    "    else :\n",
    "        try:\n",
    "             nuevo_data = valor.replace(',','').replace('$', '')\n",
    "             nuevo = float(nuevo_data)   \n",
    "        except Exception as error:\n",
    "            print(error)    \n",
    "    return nuevo"
   ]
  },
  {
   "cell_type": "code",
   "execution_count": 24,
   "metadata": {},
   "outputs": [
    {
     "data": {
      "text/html": [
       "<div>\n",
       "<style scoped>\n",
       "    .dataframe tbody tr th:only-of-type {\n",
       "        vertical-align: middle;\n",
       "    }\n",
       "\n",
       "    .dataframe tbody tr th {\n",
       "        vertical-align: top;\n",
       "    }\n",
       "\n",
       "    .dataframe thead th {\n",
       "        text-align: right;\n",
       "    }\n",
       "</style>\n",
       "<table border=\"1\" class=\"dataframe\">\n",
       "  <thead>\n",
       "    <tr style=\"text-align: right;\">\n",
       "      <th></th>\n",
       "      <th>ID</th>\n",
       "      <th>Nombre</th>\n",
       "      <th>2016</th>\n",
       "      <th>2017</th>\n",
       "      <th>Crecimiento</th>\n",
       "      <th>Unidades</th>\n",
       "      <th>fecha</th>\n",
       "      <th>Activo</th>\n",
       "    </tr>\n",
       "  </thead>\n",
       "  <tbody>\n",
       "    <tr>\n",
       "      <th>0</th>\n",
       "      <td>10002</td>\n",
       "      <td>Verde Mar</td>\n",
       "      <td>125000.0</td>\n",
       "      <td>$162500.00</td>\n",
       "      <td>30.00%</td>\n",
       "      <td>500</td>\n",
       "      <td>1-10-2015</td>\n",
       "      <td>True</td>\n",
       "    </tr>\n",
       "    <tr>\n",
       "      <th>1</th>\n",
       "      <td>552278</td>\n",
       "      <td>Manantial sa</td>\n",
       "      <td>920000.0</td>\n",
       "      <td>$101,2000.00</td>\n",
       "      <td>10.00%</td>\n",
       "      <td>700</td>\n",
       "      <td>6-23-2014</td>\n",
       "      <td>True</td>\n",
       "    </tr>\n",
       "    <tr>\n",
       "      <th>2</th>\n",
       "      <td>23477</td>\n",
       "      <td>ACME</td>\n",
       "      <td>50000.0</td>\n",
       "      <td>62500.00</td>\n",
       "      <td>25.00%</td>\n",
       "      <td>125</td>\n",
       "      <td>3-12-2016</td>\n",
       "      <td>True</td>\n",
       "    </tr>\n",
       "    <tr>\n",
       "      <th>3</th>\n",
       "      <td>24900</td>\n",
       "      <td>Andes sur</td>\n",
       "      <td>350000.0</td>\n",
       "      <td>490000.00</td>\n",
       "      <td>4.00%</td>\n",
       "      <td>75</td>\n",
       "      <td>10-28-2015</td>\n",
       "      <td>True</td>\n",
       "    </tr>\n",
       "    <tr>\n",
       "      <th>4</th>\n",
       "      <td>651029</td>\n",
       "      <td>San Pablo</td>\n",
       "      <td>15000.0</td>\n",
       "      <td>$12750.00</td>\n",
       "      <td>-15.00%</td>\n",
       "      <td>0</td>\n",
       "      <td>2-15-2014</td>\n",
       "      <td>True</td>\n",
       "    </tr>\n",
       "    <tr>\n",
       "      <th>5</th>\n",
       "      <td>651029</td>\n",
       "      <td>San Pablo</td>\n",
       "      <td>-15000.0</td>\n",
       "      <td>$ 12750.00</td>\n",
       "      <td>-15.00%</td>\n",
       "      <td>0</td>\n",
       "      <td>2-15-2014</td>\n",
       "      <td>True</td>\n",
       "    </tr>\n",
       "  </tbody>\n",
       "</table>\n",
       "</div>"
      ],
      "text/plain": [
       "       ID        Nombre      2016          2017 Crecimiento  Unidades  \\\n",
       "0   10002     Verde Mar  125000.0    $162500.00      30.00%       500   \n",
       "1  552278  Manantial sa  920000.0  $101,2000.00      10.00%       700   \n",
       "2   23477          ACME   50000.0      62500.00      25.00%       125   \n",
       "3   24900     Andes sur  350000.0     490000.00       4.00%        75   \n",
       "4  651029     San Pablo   15000.0     $12750.00     -15.00%         0   \n",
       "5  651029     San Pablo  -15000.0    $ 12750.00     -15.00%         0   \n",
       "\n",
       "        fecha  Activo  \n",
       "0   1-10-2015    True  \n",
       "1   6-23-2014    True  \n",
       "2   3-12-2016    True  \n",
       "3  10-28-2015    True  \n",
       "4   2-15-2014    True  \n",
       "5   2-15-2014    True  "
      ]
     },
     "execution_count": 24,
     "metadata": {},
     "output_type": "execute_result"
    }
   ],
   "source": [
    "df1[\"2016\"] = df1[\"2016\"].apply(convertirAFloat)\n",
    "df1.head(6)"
   ]
  },
  {
   "cell_type": "markdown",
   "metadata": {},
   "source": [
    "B.\tEstadísticas descriptivas<br>\n",
    "<ol>\n",
    "<li>a.\tCree un set de datos  con 20 datos que contenga al menos dos atributos continuos y una variable categórica (por ejemplo: nombre, nota, edad).</li>\n",
    "<li>b.\tTransforme dicho set de datos  a un data frame de pandas.</li>\n",
    "<li>c.\tObtenga estadísticas descriptivas de tendencia central.</li>\n",
    "<li>d.\tObtenga estadísticas descriptivas de dispersión.</li>\n",
    "<ol>\n"
   ]
  },
  {
   "cell_type": "code",
   "execution_count": 25,
   "metadata": {},
   "outputs": [
    {
     "data": {
      "text/html": [
       "<div>\n",
       "<style scoped>\n",
       "    .dataframe tbody tr th:only-of-type {\n",
       "        vertical-align: middle;\n",
       "    }\n",
       "\n",
       "    .dataframe tbody tr th {\n",
       "        vertical-align: top;\n",
       "    }\n",
       "\n",
       "    .dataframe thead th {\n",
       "        text-align: right;\n",
       "    }\n",
       "</style>\n",
       "<table border=\"1\" class=\"dataframe\">\n",
       "  <thead>\n",
       "    <tr style=\"text-align: right;\">\n",
       "      <th></th>\n",
       "      <th>nombre</th>\n",
       "      <th>altura</th>\n",
       "      <th>peso</th>\n",
       "      <th>posicion</th>\n",
       "      <th>fecha_nacimiento</th>\n",
       "      <th>nacionalidad</th>\n",
       "      <th>equipos_actual</th>\n",
       "      <th>valores_mercado</th>\n",
       "    </tr>\n",
       "  </thead>\n",
       "  <tbody>\n",
       "    <tr>\n",
       "      <th>0</th>\n",
       "      <td>Lionel Messi</td>\n",
       "      <td>1.70</td>\n",
       "      <td>72</td>\n",
       "      <td>Delantero</td>\n",
       "      <td>1987-06-24</td>\n",
       "      <td>Argentina</td>\n",
       "      <td>PSG</td>\n",
       "      <td>80</td>\n",
       "    </tr>\n",
       "    <tr>\n",
       "      <th>1</th>\n",
       "      <td>Cristiano Ronaldo</td>\n",
       "      <td>1.87</td>\n",
       "      <td>84</td>\n",
       "      <td>Delantero</td>\n",
       "      <td>1985-02-05</td>\n",
       "      <td>Portugal</td>\n",
       "      <td>Al Nassr</td>\n",
       "      <td>50</td>\n",
       "    </tr>\n",
       "    <tr>\n",
       "      <th>2</th>\n",
       "      <td>Neymar Jr.</td>\n",
       "      <td>1.75</td>\n",
       "      <td>68</td>\n",
       "      <td>Delantero</td>\n",
       "      <td>1992-02-05</td>\n",
       "      <td>Brasil</td>\n",
       "      <td>PSG</td>\n",
       "      <td>75</td>\n",
       "    </tr>\n",
       "    <tr>\n",
       "      <th>3</th>\n",
       "      <td>Kylian Mbappé</td>\n",
       "      <td>1.78</td>\n",
       "      <td>73</td>\n",
       "      <td>Delantero</td>\n",
       "      <td>1998-12-20</td>\n",
       "      <td>Francia</td>\n",
       "      <td>PSG</td>\n",
       "      <td>120</td>\n",
       "    </tr>\n",
       "    <tr>\n",
       "      <th>4</th>\n",
       "      <td>Robert Lewandowski</td>\n",
       "      <td>1.85</td>\n",
       "      <td>80</td>\n",
       "      <td>Delantero</td>\n",
       "      <td>1988-08-21</td>\n",
       "      <td>Polonia</td>\n",
       "      <td>FC Barcelona</td>\n",
       "      <td>55</td>\n",
       "    </tr>\n",
       "  </tbody>\n",
       "</table>\n",
       "</div>"
      ],
      "text/plain": [
       "               nombre  altura  peso   posicion fecha_nacimiento nacionalidad  \\\n",
       "0        Lionel Messi    1.70    72  Delantero       1987-06-24    Argentina   \n",
       "1   Cristiano Ronaldo    1.87    84  Delantero       1985-02-05     Portugal   \n",
       "2          Neymar Jr.    1.75    68  Delantero       1992-02-05       Brasil   \n",
       "3       Kylian Mbappé    1.78    73  Delantero       1998-12-20      Francia   \n",
       "4  Robert Lewandowski    1.85    80  Delantero       1988-08-21      Polonia   \n",
       "\n",
       "  equipos_actual  valores_mercado  \n",
       "0            PSG               80  \n",
       "1       Al Nassr               50  \n",
       "2            PSG               75  \n",
       "3            PSG              120  \n",
       "4   FC Barcelona               55  "
      ]
     },
     "execution_count": 25,
     "metadata": {},
     "output_type": "execute_result"
    }
   ],
   "source": [
    "nombres = [\"Lionel Messi\", \"Cristiano Ronaldo\", \"Neymar Jr.\", \"Kylian Mbappé\", \"Robert Lewandowski\",\n",
    "           \"Kevin De Bruyne\", \"Mohamed Salah\", \"Erling Haaland\", \"Harry Kane\", \"Eden Hazard\",\n",
    "           \"Sergio Ramos\", \"Virgil van Dijk\", \"Toni Kroos\", \"Paul Pogba\", \"N'Golo Kanté\",\n",
    "           \"Manuel Neuer\", \"Jan Oblak\", \"Marc-André ter Stegen\", \"Thibaut Courtois\", \"David de Gea\"]\n",
    "\n",
    "posiciones = [\"Delantero\", \"Delantero\", \"Delantero\", \"Delantero\", \"Delantero\", \"Mediocampista\", \"Delantero\",\n",
    "              \"Delantero\", \"Delantero\", \"Mediocampista\", \"Defensa\", \"Defensa\", \"Mediocampista\", \"Mediocampista\",\n",
    "              \"Mediocampista\", \"Portero\", \"Portero\", \"Portero\", \"Portero\", \"Portero\"]\n",
    "\n",
    "alturas = [1.70, 1.87, 1.75, 1.78, 1.85, 1.81, 1.75, 1.94, 1.88, 1.75, 1.84, 1.93, 1.83, 1.86, 1.72,\n",
    "           1.93, 1.88, 1.91, 1.99, 1.91]\n",
    "\n",
    "pesos = [72, 84, 68, 73, 80, 73, 71, 88, 87, 73, 84, 92, 83, 79, 70,\n",
    "          90, 87, 89, 96, 97]\n",
    "\n",
    "fechas_nacimiento = [\"1987-06-24\", \"1985-02-05\", \"1992-02-05\", \"1998-12-20\", \"1988-08-21\",\n",
    "                     \"1991-06-28\", \"1992-06-15\", \"2000-07-21\", \"1993-07-28\", \"1991-01-07\",\n",
    "                     \"1986-03-05\", \"1991-07-13\", \"1990-11-04\", \"1993-03-15\", \"1991-03-29\",\n",
    "                     \"1986-03-27\", \"1993-10-07\", \"1992-04-30\", \"1992-05-11\", \"1989-11-07\"]\n",
    "\n",
    "nacionalidades = [\"Argentina\", \"Portugal\", \"Brasil\", \"Francia\", \"Polonia\", \"Bélgica\", \"Egipto\", \"Noruega\",\n",
    "                  \"Inglaterra\", \"Bélgica\", \"España\", \"Países Bajos\", \"Alemania\", \"Francia\", \"Francia\",\n",
    "                  \"Alemania\", \"Eslovenia\", \"Alemania\", \"Bélgica\", \"España\"]\n",
    "\n",
    "equipos_actuales = [\"PSG\", \"Al Nassr\", \"PSG\", \"PSG\", \"FC Barcelona\", \"Manchester City\", \"Liverpool\",\n",
    "                     \"Manchester City\", \"Tottenham Hotspur\", \"Real Madrid\", \"PSG\", \"Liverpool\", \"Real Madrid\",\n",
    "                     \"Juventus\", \"Chelsea\", \"Bayern Munich\", \"Atlético de Madrid\", \"FC Barcelona\", \"Real Madrid\",\n",
    "                     \"Manchester United\"]\n",
    "\n",
    "valores_mercado = [80, 50, 75, 120, 55, 100, 85, 150, 100, 75, 45, 75, 65, 60, 50,\n",
    "                     40, 45, 40, 60, 50]\n",
    "data = { 'nombre' : pd.Series(nombres),\n",
    "         'altura' : pd.Series(alturas),\n",
    "         'peso'   : pd.Series(pesos),  \n",
    "         'posicion' : pd.Series(posiciones),\n",
    "         'fecha_nacimiento' : pd.Series(fechas_nacimiento),\n",
    "         'nacionalidad' : pd.Series(nacionalidades),\n",
    "         'equipos_actual' : pd.Series(equipos_actuales),\n",
    "         'valores_mercado'  : pd.Series(valores_mercado) }\n",
    "sportdata = pd.DataFrame(data)\n",
    "\n",
    "sportdata.head()"
   ]
  },
  {
   "cell_type": "code",
   "execution_count": 26,
   "metadata": {},
   "outputs": [
    {
     "name": "stdout",
     "output_type": "stream",
     "text": [
      "Altura Mean: 1.84\n",
      "Altura Media 1.86\n",
      "Peso Moda  0    1.75\n",
      "Name: altura, dtype: float64\n"
     ]
    }
   ],
   "source": [
    "import  numpy as np\n",
    "print('Altura Mean:', np.round(sportdata['altura'].mean(),2))\n",
    "print('Altura Media', np.round(sportdata['altura'].median(),2))\n",
    "print('Peso Moda ', np.round(sportdata['altura'].mode(),2))\n"
   ]
  },
  {
   "cell_type": "code",
   "execution_count": 27,
   "metadata": {},
   "outputs": [
    {
     "name": "stdout",
     "output_type": "stream",
     "text": [
      "Peso Media: 81.8\n",
      "Peso Media  83.5\n",
      "Peso Moda  0    73\n",
      "Name: peso, dtype: int64\n"
     ]
    }
   ],
   "source": [
    "print('Peso Media:', np.round(sportdata['peso'].mean(),2))\n",
    "print('Peso Media ', np.round( sportdata['peso'].median(),2))\n",
    "print('Peso Moda ', np.round(sportdata['peso'].mode(),2))"
   ]
  },
  {
   "cell_type": "code",
   "execution_count": 28,
   "metadata": {},
   "outputs": [
    {
     "name": "stdout",
     "output_type": "stream",
     "text": [
      "Altura Varianza 0.01\n",
      "Altura Desviacion standar 0.08\n",
      "Peso Varianza 81.33\n",
      "Peso Desviacion standar 9.02\n"
     ]
    }
   ],
   "source": [
    "print('Altura Varianza', np.round( sportdata['altura'].var(),2))\n",
    "print('Altura Desviacion standar', np.round(sportdata['altura'].std(),2))\n",
    "print('Peso Varianza', np.round( sportdata['peso'].var(),2))\n",
    "print('Peso Desviacion standar', np.round( sportdata['peso'].std(),2))"
   ]
  },
  {
   "cell_type": "code",
   "execution_count": 29,
   "metadata": {},
   "outputs": [
    {
     "name": "stdout",
     "output_type": "stream",
     "text": [
      "Valor del mercado Media: 71.0\n",
      "Valor del mercado Media  62.5\n",
      "Valor del mercado Moda  0    50\n",
      "1    75\n",
      "Name: valores_mercado, dtype: int64\n"
     ]
    }
   ],
   "source": [
    "print('Valor del mercado Media:', np.round(sportdata['valores_mercado'].mean(),2))\n",
    "print('Valor del mercado Media ', np.round( sportdata['valores_mercado'].median(),2))\n",
    "print('Valor del mercado Moda ', np.round(sportdata['valores_mercado'].mode(),2))"
   ]
  },
  {
   "cell_type": "code",
   "execution_count": 30,
   "metadata": {},
   "outputs": [
    {
     "data": {
      "text/html": [
       "<div>\n",
       "<style scoped>\n",
       "    .dataframe tbody tr th:only-of-type {\n",
       "        vertical-align: middle;\n",
       "    }\n",
       "\n",
       "    .dataframe tbody tr th {\n",
       "        vertical-align: top;\n",
       "    }\n",
       "\n",
       "    .dataframe thead th {\n",
       "        text-align: right;\n",
       "    }\n",
       "</style>\n",
       "<table border=\"1\" class=\"dataframe\">\n",
       "  <thead>\n",
       "    <tr style=\"text-align: right;\">\n",
       "      <th></th>\n",
       "      <th>altura</th>\n",
       "      <th>valores_mercado</th>\n",
       "    </tr>\n",
       "  </thead>\n",
       "  <tbody>\n",
       "    <tr>\n",
       "      <th>altura</th>\n",
       "      <td>0.006615</td>\n",
       "      <td>-0.272632</td>\n",
       "    </tr>\n",
       "    <tr>\n",
       "      <th>valores_mercado</th>\n",
       "      <td>-0.272632</td>\n",
       "      <td>830.526316</td>\n",
       "    </tr>\n",
       "  </tbody>\n",
       "</table>\n",
       "</div>"
      ],
      "text/plain": [
       "                   altura  valores_mercado\n",
       "altura           0.006615        -0.272632\n",
       "valores_mercado -0.272632       830.526316"
      ]
     },
     "execution_count": 30,
     "metadata": {},
     "output_type": "execute_result"
    }
   ],
   "source": [
    "sportdata[['altura','valores_mercado']].cov()"
   ]
  }
 ],
 "metadata": {
  "kernelspec": {
   "display_name": "visioncomputer311",
   "language": "python",
   "name": "python3"
  },
  "language_info": {
   "codemirror_mode": {
    "name": "ipython",
    "version": 3
   },
   "file_extension": ".py",
   "mimetype": "text/x-python",
   "name": "python",
   "nbconvert_exporter": "python",
   "pygments_lexer": "ipython3",
   "version": "3.10.12"
  }
 },
 "nbformat": 4,
 "nbformat_minor": 2
}

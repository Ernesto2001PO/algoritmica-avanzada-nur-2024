{
 "cells": [
  {
   "cell_type": "markdown",
   "metadata": {},
   "source": [
    "<h1>Tipos de datos:</h1>\n",
    "<p>\n",
    "Python es un lenguaje de tipado dinámico, lo que significa que el tipo de dato de una variable se determina automáticamente según el valor que se le asigna. Algunos tipos de datos comunes en Python son:</p>\n",
    "<ul>\n",
    "<li>\n",
    "int: números enteros (ejemplos: 10, -5, 0)</li>\n",
    "<li>float: números con decimales (ejemplos: 3.14, 2.5)</li>\n",
    "<li>str: cadenas de texto (ejemplos: \"Hola\", 'mundo')</li>\n",
    "<li>bool: valores booleanos (True o False)</li>\n",
    "</ul>\n",
    "<p>Reglas para nombrar variables:</p>\n",
    "<p>Los nombres de las variables deben comenzar con una letra o un guión bajo (_).\n",
    "Pueden contener letras, números y guiones bajos.\n",
    "No pueden contener espacios.</p>\n",
    "<p>Son sensibles a mayúsculas y minúsculas (nombre y Nombre son diferentes variables).</p>\n"
   ]
  },
  {
   "cell_type": "code",
   "execution_count": 7,
   "metadata": {},
   "outputs": [],
   "source": [
    "nombre = 'juan'\n",
    "edad =  30\n",
    "altura = 1.65\n",
    "es_estudiante= True"
   ]
  },
  {
   "cell_type": "markdown",
   "metadata": {},
   "source": [
    "<h1>Operadores aritméticos Básicos:</h1>\n",
    "<p>Los operadores aritméticos son símbolos especiales que se utilizan para realizar operaciones matemáticas básicas sobre números. En Python, estos operadores te permiten sumar, restar, multiplicar, dividir y realizar otras operaciones numéricas.</p>\n"
   ]
  },
  {
   "cell_type": "code",
   "execution_count": 8,
   "metadata": {},
   "outputs": [],
   "source": [
    "x =10\n",
    "y =5\n",
    "suma = x + y  #suma 15\n"
   ]
  },
  {
   "cell_type": "code",
   "execution_count": 9,
   "metadata": {},
   "outputs": [],
   "source": [
    "resta = x - y #resta"
   ]
  },
  {
   "cell_type": "code",
   "execution_count": 10,
   "metadata": {},
   "outputs": [],
   "source": [
    "multiplicacion =  x * y # multiplicacion "
   ]
  },
  {
   "cell_type": "code",
   "execution_count": 11,
   "metadata": {},
   "outputs": [],
   "source": [
    "division = x / y    #division de punto flotante"
   ]
  },
  {
   "cell_type": "code",
   "execution_count": 12,
   "metadata": {},
   "outputs": [],
   "source": [
    "division_entera = x // y # division entera"
   ]
  },
  {
   "cell_type": "code",
   "execution_count": 13,
   "metadata": {},
   "outputs": [],
   "source": [
    "modulo =  x % y  #modulo 0"
   ]
  },
  {
   "cell_type": "code",
   "execution_count": 14,
   "metadata": {},
   "outputs": [],
   "source": [
    "potencia = x ** 2"
   ]
  },
  {
   "cell_type": "markdown",
   "metadata": {},
   "source": [
    "<h1>Operadores de Asignación Compuesta:</h1>\n",
    "<p>Estos operadores combinan una operación aritmética con una asignación. Por ejemplo:</p>\n"
   ]
  },
  {
   "cell_type": "code",
   "execution_count": 6,
   "metadata": {},
   "outputs": [],
   "source": [
    "x = 10\n",
    "x += 5\n",
    "x -= 3\n",
    "x *= 2"
   ]
  },
  {
   "cell_type": "markdown",
   "metadata": {},
   "source": [
    "Cadenas de caracteres \n",
    "¿Qué son las cadenas en Python?\n",
    "En Python, las cadenas (o strings) son secuencias de caracteres encerradas entre comillas simples (') o dobles (\"). Se utilizan para representar texto, desde palabras simples hasta párrafos largos.\n"
   ]
  },
  {
   "cell_type": "code",
   "execution_count": 5,
   "metadata": {},
   "outputs": [],
   "source": [
    "cadena = 'Hola , mundo'\n",
    "cadena2 =\"Esta una cadena larga\"\n",
    "cadena3 =\"\"\" Esta es una cadena \n",
    "que ocupa varias lineas\n",
    " \"\"\"\n"
   ]
  },
  {
   "cell_type": "markdown",
   "metadata": {},
   "source": [
    "Accediendo a caracteres: \n",
    "Las cadenas se indexan comenzando desde 0. Puedes acceder a un carácter específico utilizando corchetes:\n"
   ]
  },
  {
   "cell_type": "code",
   "execution_count": null,
   "metadata": {},
   "outputs": [],
   "source": [
    "palabra= \"Python\"\n",
    "primera_letra = palabra[0]\n",
    "ultima_letra  = palabra[-1]"
   ]
  },
  {
   "cell_type": "markdown",
   "metadata": {},
   "source": []
  },
  {
   "cell_type": "code",
   "execution_count": 4,
   "metadata": {},
   "outputs": [
    {
     "name": "stdout",
     "output_type": "stream",
     "text": [
      "como\n"
     ]
    }
   ],
   "source": [
    "saludo ='Hola, como estas?'\n",
    "subcadena = saludo[6:10]\n",
    "print(subcadena)    "
   ]
  },
  {
   "cell_type": "markdown",
   "metadata": {},
   "source": [
    "Operaciones con cadenas:\n",
    "Concatenación: Unir dos o más cadenas usando el operador +.\n"
   ]
  },
  {
   "cell_type": "code",
   "execution_count": 7,
   "metadata": {},
   "outputs": [
    {
     "name": "stdout",
     "output_type": "stream",
     "text": [
      "Juan Perez\n"
     ]
    }
   ],
   "source": [
    "nombre='Juan'\n",
    "apellido='Perez'\n",
    "nombre_completo = nombre +\" \" + apellido\n",
    "print(nombre_completo)"
   ]
  }
 ],
 "metadata": {
  "kernelspec": {
   "display_name": "Python 3",
   "language": "python",
   "name": "python3"
  },
  "language_info": {
   "codemirror_mode": {
    "name": "ipython",
    "version": 3
   },
   "file_extension": ".py",
   "mimetype": "text/x-python",
   "name": "python",
   "nbconvert_exporter": "python",
   "pygments_lexer": "ipython3",
   "version": "3.12.1"
  }
 },
 "nbformat": 4,
 "nbformat_minor": 2
}

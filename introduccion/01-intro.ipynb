{
 "cells": [
  {
   "cell_type": "markdown",
   "metadata": {},
   "source": [
    "<h1>Tipos de datos:</h1>\n",
    "<p>\n",
    "Python es un lenguaje de tipado dinámico, lo que significa que el tipo de dato de una variable se determina automáticamente según el valor que se le asigna. Algunos tipos de datos comunes en Python son:</p>\n",
    "<ul>\n",
    "<li>\n",
    "int: números enteros (ejemplos: 10, -5, 0)</li>\n",
    "<li>float: números con decimales (ejemplos: 3.14, 2.5)</li>\n",
    "<li>str: cadenas de texto (ejemplos: \"Hola\", 'mundo')</li>\n",
    "<li>bool: valores booleanos (True o False)</li>\n",
    "</ul>\n",
    "<p>Reglas para nombrar variables:</p>\n",
    "<p>Los nombres de las variables deben comenzar con una letra o un guión bajo (_).\n",
    "Pueden contener letras, números y guiones bajos.\n",
    "No pueden contener espacios.</p>\n",
    "<p>Son sensibles a mayúsculas y minúsculas (nombre y Nombre son diferentes variables).</p>\n"
   ]
  },
  {
   "cell_type": "code",
   "execution_count": 18,
   "metadata": {},
   "outputs": [],
   "source": [
    "nombre = 'juan'\n",
    "edad =  30\n",
    "altura = 1.65\n",
    "es_estudiante= True"
   ]
  },
  {
   "cell_type": "markdown",
   "metadata": {},
   "source": [
    "\n",
    "<h1>La función print() en Python</h1>\n",
    "<p>La función print() en Python se utiliza para mostrar información en la consola. Puedes imprimir cualquier tipo de dato, como texto, números, variables, o incluso el resultado de expresiones.</p>\n"
   ]
  },
  {
   "cell_type": "code",
   "execution_count": 19,
   "metadata": {},
   "outputs": [
    {
     "name": "stdout",
     "output_type": "stream",
     "text": [
      "juan\n",
      "30\n",
      "1.65\n",
      "True\n"
     ]
    }
   ],
   "source": [
    "print(nombre)\n",
    "print(edad)\n",
    "print(altura)\n",
    "print(es_estudiante)"
   ]
  },
  {
   "cell_type": "markdown",
   "metadata": {},
   "source": [
    "<h1>Operadores aritméticos Básicos:</h1>\n",
    "<p>Los operadores aritméticos son símbolos especiales que se utilizan para realizar operaciones matemáticas básicas sobre números. En Python, estos operadores te permiten sumar, restar, multiplicar, dividir y realizar otras operaciones numéricas.</p>\n"
   ]
  },
  {
   "cell_type": "code",
   "execution_count": 20,
   "metadata": {},
   "outputs": [
    {
     "name": "stdout",
     "output_type": "stream",
     "text": [
      "15\n"
     ]
    }
   ],
   "source": [
    "x =10\n",
    "y =5\n",
    "suma = x + y  #suma 15\n",
    "print(suma)"
   ]
  },
  {
   "cell_type": "code",
   "execution_count": 21,
   "metadata": {},
   "outputs": [
    {
     "name": "stdout",
     "output_type": "stream",
     "text": [
      "5\n"
     ]
    }
   ],
   "source": [
    "resta = x - y #resta\n",
    "print(resta)"
   ]
  },
  {
   "cell_type": "code",
   "execution_count": 22,
   "metadata": {},
   "outputs": [
    {
     "name": "stdout",
     "output_type": "stream",
     "text": [
      "50\n"
     ]
    }
   ],
   "source": [
    "multiplicacion =  x * y # multiplicacion \n",
    "print(multiplicacion)"
   ]
  },
  {
   "cell_type": "code",
   "execution_count": 23,
   "metadata": {},
   "outputs": [
    {
     "name": "stdout",
     "output_type": "stream",
     "text": [
      "2.0\n"
     ]
    }
   ],
   "source": [
    "division = x / y    #division de punto flotante\n",
    "print(division)"
   ]
  },
  {
   "cell_type": "code",
   "execution_count": 24,
   "metadata": {},
   "outputs": [
    {
     "name": "stdout",
     "output_type": "stream",
     "text": [
      "2\n"
     ]
    }
   ],
   "source": [
    "division_entera = x // y # division entera\n",
    "print(division_entera)"
   ]
  },
  {
   "cell_type": "code",
   "execution_count": 25,
   "metadata": {},
   "outputs": [
    {
     "name": "stdout",
     "output_type": "stream",
     "text": [
      "0\n"
     ]
    }
   ],
   "source": [
    "modulo =  x % y  #modulo 0\n",
    "print(modulo)"
   ]
  },
  {
   "cell_type": "code",
   "execution_count": 9,
   "metadata": {},
   "outputs": [],
   "source": [
    "potencia = x ** 2\n",
    "print(potencia)"
   ]
  },
  {
   "cell_type": "markdown",
   "metadata": {},
   "source": [
    "<h1>Operadores de Asignación Compuesta:</h1>\n",
    "<p>Estos operadores combinan una operación aritmética con una asignación. Por ejemplo:</p>\n"
   ]
  },
  {
   "cell_type": "code",
   "execution_count": 10,
   "metadata": {},
   "outputs": [],
   "source": [
    "x = 10\n",
    "x += 5\n",
    "x -= 3\n",
    "x *= 2"
   ]
  },
  {
   "cell_type": "markdown",
   "metadata": {},
   "source": [
    "Cadenas de caracteres \n",
    "¿Qué son las cadenas en Python?\n",
    "En Python, las cadenas (o strings) son secuencias de caracteres encerradas entre comillas simples (') o dobles (\"). Se utilizan para representar texto, desde palabras simples hasta párrafos largos.\n"
   ]
  },
  {
   "cell_type": "code",
   "execution_count": 28,
   "metadata": {},
   "outputs": [
    {
     "name": "stdout",
     "output_type": "stream",
     "text": [
      "Hola, mundo\n",
      "Esta una cadena larga\n",
      "Esta es una cadena \n",
      "que ocupa varias lineas\n",
      " \n"
     ]
    }
   ],
   "source": [
    "cadena = 'Hola, mundo'\n",
    "cadena2 =\"Esta una cadena larga\"\n",
    "cadena3 =\"\"\"Esta es una cadena \n",
    "que ocupa varias lineas\n",
    " \"\"\"\n",
    "print(cadena)\n",
    "print(cadena2)\n",
    "print(cadena3)\n"
   ]
  },
  {
   "cell_type": "markdown",
   "metadata": {},
   "source": [
    "Accediendo a caracteres: \n",
    "Las cadenas se indexan comenzando desde 0. Puedes acceder a un carácter específico utilizando corchetes:\n"
   ]
  },
  {
   "cell_type": "code",
   "execution_count": 12,
   "metadata": {},
   "outputs": [],
   "source": [
    "palabra= \"Python\"\n",
    "primera_letra = palabra[0]\n",
    "ultima_letra  = palabra[-1]"
   ]
  },
  {
   "cell_type": "markdown",
   "metadata": {},
   "source": [
    "<h1>Slicing (rebanado):</h1> \n",
    "<p>Para extraer una subcadena, utiliza la sintaxis de slicing:</p>\n"
   ]
  },
  {
   "cell_type": "code",
   "execution_count": 13,
   "metadata": {},
   "outputs": [
    {
     "name": "stdout",
     "output_type": "stream",
     "text": [
      "como\n"
     ]
    }
   ],
   "source": [
    "saludo ='Hola, como estas?'\n",
    "subcadena = saludo[6:10]\n",
    "print(subcadena)    "
   ]
  },
  {
   "cell_type": "markdown",
   "metadata": {},
   "source": [
    "<h1>Operaciones con cadenas:</h1> \n",
    "<p> Concatenación: Unir dos o más cadenas usando el operador +.</p>\n"
   ]
  },
  {
   "cell_type": "code",
   "execution_count": 14,
   "metadata": {},
   "outputs": [
    {
     "name": "stdout",
     "output_type": "stream",
     "text": [
      "Juan Perez\n"
     ]
    }
   ],
   "source": [
    "nombre='Juan'\n",
    "apellido='Perez'\n",
    "nombre_completo = nombre +\" \" + apellido\n",
    "print(nombre_completo)"
   ]
  },
  {
   "cell_type": "markdown",
   "metadata": {},
   "source": [
    "<h1>Repetición:</h1> \n",
    "<p>Multiplicar una cadena por un número para repetirla</p>"
   ]
  },
  {
   "cell_type": "code",
   "execution_count": 1,
   "metadata": {},
   "outputs": [
    {
     "name": "stdout",
     "output_type": "stream",
     "text": [
      "**********\n"
     ]
    }
   ],
   "source": [
    "asteriscos= '*' *10\n",
    "print(asteriscos)"
   ]
  },
  {
   "cell_type": "markdown",
   "metadata": {},
   "source": [
    "<h1>Longitud de una cadena:</h1>\n",
    "<p> Usar la función len() para obtener el número de caracteres.</p>\n"
   ]
  },
  {
   "cell_type": "code",
   "execution_count": 15,
   "metadata": {},
   "outputs": [],
   "source": [
    "longitud= len(asteriscos)"
   ]
  },
  {
   "cell_type": "markdown",
   "metadata": {},
   "source": [
    "<h1>Métodos de cadenas:</h1> \n",
    "<p>Python ofrece numerosos métodos para manipular cadenas, como</p>"
   ]
  },
  {
   "cell_type": "code",
   "execution_count": 29,
   "metadata": {},
   "outputs": [
    {
     "name": "stdout",
     "output_type": "stream",
     "text": [
      "Python es genial\n",
      "PYTHON ES GENIAL\n",
      "['Python', 'es', 'genial']\n"
     ]
    }
   ],
   "source": [
    "cadena = \"Python es genial\"\n",
    "cadena_mayusculas = cadena.upper()\n",
    "cadena_separada = cadena.split()\n",
    "print(cadena)\n",
    "print(cadena_mayusculas)\n",
    "print(cadena_separada)"
   ]
  },
  {
   "cell_type": "markdown",
   "metadata": {},
   "source": [
    "<h1>Formateo de cadenas:</h1>\n",
    "<p>Método f-strings: </p>\n",
    "<p>Una forma moderna y conveniente de insertar variables dentro de cadenas</p>\n"
   ]
  },
  {
   "cell_type": "code",
   "execution_count": 16,
   "metadata": {},
   "outputs": [
    {
     "name": "stdout",
     "output_type": "stream",
     "text": [
      "Hola Ana. Tienes  30 \n"
     ]
    }
   ],
   "source": [
    "\n",
    "nombre=\"Ana\"\n",
    "edad=30\n",
    "mensaje = f\"Hola {nombre}. Tienes  {edad} \"\n",
    "print(mensaje)"
   ]
  },
  {
   "cell_type": "markdown",
   "metadata": {},
   "source": [
    "<h1>Funciones en Python</h1>\n",
    "<p>Las funciones son bloques de código reutilizables que realizan una tarea específica. Se definen utilizando la palabra clave def seguida del nombre de la función, paréntesis para los argumentos (opcional) y dos puntos (:).</p>   \n"
   ]
  },
  {
   "cell_type": "code",
   "execution_count": 30,
   "metadata": {},
   "outputs": [
    {
     "name": "stdout",
     "output_type": "stream",
     "text": [
      "Hola ! Juan!\n"
     ]
    }
   ],
   "source": [
    "def saludar(mensaje):\n",
    "    print(f\"Hola, {mensaje}!\")\n",
    "saludar(\"Juan\")    "
   ]
  },
  {
   "cell_type": "markdown",
   "metadata": {},
   "source": [
    "<h1>La función input() en Python</h1>\n",
    "La función input() se utiliza para obtener información del usuario desde la consola. Cuando se ejecuta, el programa se detiene y espera que el usuario ingrese algo y presione Enter. El valor ingresado se devuelve como una cadena de texto.\n"
   ]
  },
  {
   "cell_type": "code",
   "execution_count": 31,
   "metadata": {},
   "outputs": [
    {
     "name": "stdout",
     "output_type": "stream",
     "text": [
      "5\n"
     ]
    }
   ],
   "source": [
    "valor = input(\"Ingresa un valor\")\n",
    "print(valor)"
   ]
  },
  {
   "cell_type": "markdown",
   "metadata": {},
   "source": [
    "<h1>Ejecución Condicional en Python<h1>\n",
    "\n",
    "La ejecución condicional nos permite ejecutar diferentes bloques de código dependiendo de si ciertas condiciones se cumplen o no. Esto es fundamental para crear programas que tomen decisiones basadas en los datos de entrada.\n"
   ]
  },
  {
   "cell_type": "code",
   "execution_count": null,
   "metadata": {},
   "outputs": [],
   "source": [
    "edad =18\n",
    "if edad >= 18:\n",
    "    print(\"eres mayor de edad\")"
   ]
  }
 ],
 "metadata": {
  "kernelspec": {
   "display_name": "Python 3",
   "language": "python",
   "name": "python3"
  },
  "language_info": {
   "codemirror_mode": {
    "name": "ipython",
    "version": 3
   },
   "file_extension": ".py",
   "mimetype": "text/x-python",
   "name": "python",
   "nbconvert_exporter": "python",
   "pygments_lexer": "ipython3",
   "version": "3.12.1"
  }
 },
 "nbformat": 4,
 "nbformat_minor": 2
}

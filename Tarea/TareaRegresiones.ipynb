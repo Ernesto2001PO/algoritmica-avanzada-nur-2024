{
 "cells": [
  {
   "cell_type": "code",
   "execution_count": 12,
   "metadata": {},
   "outputs": [],
   "source": [
    "import pandas as pd\n",
    "import numpy as np\n",
    "from sklearn.linear_model import LinearRegression, Ridge, Lasso \n",
    "from sklearn.metrics import mean_squared_error\n",
    "from sklearn.preprocessing import StandardScaler, PolynomialFeatures\n",
    "from sklearn.model_selection import cross_val_score, GridSearchCV, train_test_split, RandomizedSearchCV\n",
    "import matplotlib.pyplot as plt"
   ]
  },
  {
   "cell_type": "markdown",
   "metadata": {},
   "source": [
    "Llamamos a la base de datos\n"
   ]
  },
  {
   "cell_type": "code",
   "execution_count": 13,
   "metadata": {},
   "outputs": [
    {
     "data": {
      "text/html": [
       "<div>\n",
       "<style scoped>\n",
       "    .dataframe tbody tr th:only-of-type {\n",
       "        vertical-align: middle;\n",
       "    }\n",
       "\n",
       "    .dataframe tbody tr th {\n",
       "        vertical-align: top;\n",
       "    }\n",
       "\n",
       "    .dataframe thead th {\n",
       "        text-align: right;\n",
       "    }\n",
       "</style>\n",
       "<table border=\"1\" class=\"dataframe\">\n",
       "  <thead>\n",
       "    <tr style=\"text-align: right;\">\n",
       "      <th></th>\n",
       "      <th>school</th>\n",
       "      <th>sex</th>\n",
       "      <th>age</th>\n",
       "      <th>address</th>\n",
       "      <th>famsize</th>\n",
       "      <th>Pstatus</th>\n",
       "      <th>Medu</th>\n",
       "      <th>Fedu</th>\n",
       "      <th>Mjob</th>\n",
       "      <th>Fjob</th>\n",
       "      <th>...</th>\n",
       "      <th>famrel</th>\n",
       "      <th>freetime</th>\n",
       "      <th>goout</th>\n",
       "      <th>Dalc</th>\n",
       "      <th>Walc</th>\n",
       "      <th>health</th>\n",
       "      <th>absences</th>\n",
       "      <th>G1</th>\n",
       "      <th>G2</th>\n",
       "      <th>G3</th>\n",
       "    </tr>\n",
       "  </thead>\n",
       "  <tbody>\n",
       "    <tr>\n",
       "      <th>0</th>\n",
       "      <td>GP</td>\n",
       "      <td>F</td>\n",
       "      <td>18</td>\n",
       "      <td>U</td>\n",
       "      <td>GT3</td>\n",
       "      <td>A</td>\n",
       "      <td>4</td>\n",
       "      <td>4</td>\n",
       "      <td>at_home</td>\n",
       "      <td>teacher</td>\n",
       "      <td>...</td>\n",
       "      <td>4</td>\n",
       "      <td>3</td>\n",
       "      <td>4</td>\n",
       "      <td>1</td>\n",
       "      <td>1</td>\n",
       "      <td>3</td>\n",
       "      <td>6</td>\n",
       "      <td>5</td>\n",
       "      <td>6</td>\n",
       "      <td>6</td>\n",
       "    </tr>\n",
       "    <tr>\n",
       "      <th>1</th>\n",
       "      <td>GP</td>\n",
       "      <td>F</td>\n",
       "      <td>17</td>\n",
       "      <td>U</td>\n",
       "      <td>GT3</td>\n",
       "      <td>T</td>\n",
       "      <td>1</td>\n",
       "      <td>1</td>\n",
       "      <td>at_home</td>\n",
       "      <td>other</td>\n",
       "      <td>...</td>\n",
       "      <td>5</td>\n",
       "      <td>3</td>\n",
       "      <td>3</td>\n",
       "      <td>1</td>\n",
       "      <td>1</td>\n",
       "      <td>3</td>\n",
       "      <td>4</td>\n",
       "      <td>5</td>\n",
       "      <td>5</td>\n",
       "      <td>6</td>\n",
       "    </tr>\n",
       "    <tr>\n",
       "      <th>2</th>\n",
       "      <td>GP</td>\n",
       "      <td>F</td>\n",
       "      <td>15</td>\n",
       "      <td>U</td>\n",
       "      <td>LE3</td>\n",
       "      <td>T</td>\n",
       "      <td>1</td>\n",
       "      <td>1</td>\n",
       "      <td>at_home</td>\n",
       "      <td>other</td>\n",
       "      <td>...</td>\n",
       "      <td>4</td>\n",
       "      <td>3</td>\n",
       "      <td>2</td>\n",
       "      <td>2</td>\n",
       "      <td>3</td>\n",
       "      <td>3</td>\n",
       "      <td>10</td>\n",
       "      <td>7</td>\n",
       "      <td>8</td>\n",
       "      <td>10</td>\n",
       "    </tr>\n",
       "    <tr>\n",
       "      <th>3</th>\n",
       "      <td>GP</td>\n",
       "      <td>F</td>\n",
       "      <td>15</td>\n",
       "      <td>U</td>\n",
       "      <td>GT3</td>\n",
       "      <td>T</td>\n",
       "      <td>4</td>\n",
       "      <td>2</td>\n",
       "      <td>health</td>\n",
       "      <td>services</td>\n",
       "      <td>...</td>\n",
       "      <td>3</td>\n",
       "      <td>2</td>\n",
       "      <td>2</td>\n",
       "      <td>1</td>\n",
       "      <td>1</td>\n",
       "      <td>5</td>\n",
       "      <td>2</td>\n",
       "      <td>15</td>\n",
       "      <td>14</td>\n",
       "      <td>15</td>\n",
       "    </tr>\n",
       "    <tr>\n",
       "      <th>4</th>\n",
       "      <td>GP</td>\n",
       "      <td>F</td>\n",
       "      <td>16</td>\n",
       "      <td>U</td>\n",
       "      <td>GT3</td>\n",
       "      <td>T</td>\n",
       "      <td>3</td>\n",
       "      <td>3</td>\n",
       "      <td>other</td>\n",
       "      <td>other</td>\n",
       "      <td>...</td>\n",
       "      <td>4</td>\n",
       "      <td>3</td>\n",
       "      <td>2</td>\n",
       "      <td>1</td>\n",
       "      <td>2</td>\n",
       "      <td>5</td>\n",
       "      <td>4</td>\n",
       "      <td>6</td>\n",
       "      <td>10</td>\n",
       "      <td>10</td>\n",
       "    </tr>\n",
       "  </tbody>\n",
       "</table>\n",
       "<p>5 rows × 33 columns</p>\n",
       "</div>"
      ],
      "text/plain": [
       "  school sex  age address famsize Pstatus  Medu  Fedu     Mjob      Fjob  ...  \\\n",
       "0     GP   F   18       U     GT3       A     4     4  at_home   teacher  ...   \n",
       "1     GP   F   17       U     GT3       T     1     1  at_home     other  ...   \n",
       "2     GP   F   15       U     LE3       T     1     1  at_home     other  ...   \n",
       "3     GP   F   15       U     GT3       T     4     2   health  services  ...   \n",
       "4     GP   F   16       U     GT3       T     3     3    other     other  ...   \n",
       "\n",
       "  famrel freetime  goout  Dalc  Walc health absences  G1  G2  G3  \n",
       "0      4        3      4     1     1      3        6   5   6   6  \n",
       "1      5        3      3     1     1      3        4   5   5   6  \n",
       "2      4        3      2     2     3      3       10   7   8  10  \n",
       "3      3        2      2     1     1      5        2  15  14  15  \n",
       "4      4        3      2     1     2      5        4   6  10  10  \n",
       "\n",
       "[5 rows x 33 columns]"
      ]
     },
     "execution_count": 13,
     "metadata": {},
     "output_type": "execute_result"
    }
   ],
   "source": [
    "# Cargar el archivo student-mat.csv en un DataFrame\n",
    "df_student_mat = pd.read_csv('student-mat.csv')\n",
    "\n",
    "# Mostrar las primeras filas del DataFrame para verificar que se ha cargado correctamente\n",
    "df_student_mat.head()"
   ]
  },
  {
   "cell_type": "markdown",
   "metadata": {},
   "source": [
    "\"Utilizando el conjunto de datos 'math students', entrena un modelo de\n",
    "regresión lineal , regresión polinomica , regresión ridge , regresión Lasso para\n",
    "predecir el desempeño en matemáticas de los estudiantes en función de las\n",
    "horas de estudio semanales, el puntaje en un examen previo y el número de\n",
    "horas de sueño diarias.\"\n"
   ]
  },
  {
   "cell_type": "code",
   "execution_count": 14,
   "metadata": {},
   "outputs": [
    {
     "name": "stdout",
     "output_type": "stream",
     "text": [
      "Linear Regression MSE: 4.189335675291126\n",
      "Ridge Regression MSE: 4.187947941638371\n",
      "Lasso Regression MSE: 4.956192161086115\n"
     ]
    }
   ],
   "source": [
    "# Seleccionar las características y la variable objetivo\n",
    "X = df_student_mat[['studytime', 'G2', 'freetime']]\n",
    "y = df_student_mat['G3']\n",
    "\n",
    "# Dividir los datos en conjuntos de entrenamiento y prueba\n",
    "X_train, X_test, y_train, y_test = train_test_split(X, y, test_size=0.2, random_state=42)\n",
    "\n",
    "# Escalar las características\n",
    "scaler = StandardScaler()\n",
    "X_train_scaled = scaler.fit_transform(X_train)\n",
    "X_test_scaled = scaler.transform(X_test)\n",
    "\n",
    "# Entrenar el modelo de regresión lineal\n",
    "linear_model = LinearRegression()\n",
    "linear_model.fit(X_train_scaled, y_train)\n",
    "y_pred_linear = linear_model.predict(X_test_scaled)\n",
    "mse_linear = mean_squared_error(y_test, y_pred_linear)\n",
    "\n",
    "\n",
    "\n",
    "# Entrenar el modelo de regresión Ridge\n",
    "ridge_model = Ridge()\n",
    "ridge_model.fit(X_train_scaled, y_train)\n",
    "y_pred_ridge = ridge_model.predict(X_test_scaled)\n",
    "mse_ridge = mean_squared_error(y_test, y_pred_ridge)\n",
    "\n",
    "# Entrenar el modelo de regresión Lasso\n",
    "lasso_model = Lasso()\n",
    "lasso_model.fit(X_train_scaled, y_train)\n",
    "y_pred_lasso = lasso_model.predict(X_test_scaled)\n",
    "mse_lasso = mean_squared_error(y_test, y_pred_lasso)\n",
    "\n",
    "# Mostrar los errores cuadráticos medios de cada modelo\n",
    "print(f\"Linear Regression MSE: {mse_linear}\")\n",
    "print(f\"Ridge Regression MSE: {mse_ridge}\")\n",
    "print(f\"Lasso Regression MSE: {mse_lasso}\")"
   ]
  },
  {
   "cell_type": "markdown",
   "metadata": {},
   "source": [
    "Implementa un modelo de regresión Ridge para el conjunto de datos 'math\n",
    "students' y compara su desempeño con un modelo de regresión lineal\n",
    "múltiple"
   ]
  },
  {
   "cell_type": "code",
   "execution_count": 15,
   "metadata": {},
   "outputs": [
    {
     "name": "stdout",
     "output_type": "stream",
     "text": [
      "Linear Regression MSE: 4.189335675291126\n",
      "Ridge Regression MSE: 4.187947941638371\n"
     ]
    }
   ],
   "source": [
    "# Comparar el desempeño del modelo de regresión Ridge con el modelo de regresión lineal múltiple\n",
    "\n",
    "# Calcular el error cuadrático medio para el modelo de regresión lineal múltiple\n",
    "mse_linear = mean_squared_error(y_test, y_pred_linear)\n",
    "\n",
    "# Calcular el error cuadrático medio para el modelo de regresión Ridge\n",
    "mse_ridge = mean_squared_error(y_test, y_pred_ridge)\n",
    "\n",
    "# Mostrar los errores cuadráticos medios de cada modelo\n",
    "print(f\"Linear Regression MSE: {mse_linear}\")\n",
    "print(f\"Ridge Regression MSE: {mse_ridge}\")"
   ]
  },
  {
   "cell_type": "markdown",
   "metadata": {},
   "source": [
    " \"Realiza una selección de características para el conjunto de datos 'math\n",
    "students' "
   ]
  },
  {
   "cell_type": "code",
   "execution_count": 16,
   "metadata": {},
   "outputs": [
    {
     "name": "stdout",
     "output_type": "stream",
     "text": [
      "Características seleccionadas: ['G2']\n"
     ]
    }
   ],
   "source": [
    "# Realizar una selección de características utilizando Lasso\n",
    "lasso_selector = Lasso(alpha=0.1)\n",
    "lasso_selector.fit(X_train_scaled, y_train)\n",
    "\n",
    "# Obtener las características seleccionadas\n",
    "selected_features = X.columns[(lasso_selector.coef_ != 0)]\n",
    "print(\"Características seleccionadas:\", selected_features.tolist())"
   ]
  },
  {
   "cell_type": "markdown",
   "metadata": {},
   "source": [
    "o \"Compara el desempeño de un modelo de regresión lineal, Ridge y Lasso para\n",
    "el conjunto de datos 'math students'. ¿Cuál modelo es más adecuado en este\n",
    "caso y por qué?\"\n"
   ]
  },
  {
   "cell_type": "code",
   "execution_count": 17,
   "metadata": {
    "vscode": {
     "languageId": "ruby"
    }
   },
   "outputs": [
    {
     "name": "stdout",
     "output_type": "stream",
     "text": [
      "Linear Regression MSE: 4.189335675291126\n",
      "Ridge Regression MSE: 4.187947941638371\n",
      "Lasso Regression MSE: 4.956192161086115\n",
      "El modelo de regresión Ridge es el más adecuado para este conjunto de datos.\n"
     ]
    }
   ],
   "source": [
    "# Comparar el desempeño de los modelos de regresión lineal, Ridge y Lasso\n",
    "\n",
    "# Calcular el error cuadrático medio para cada modelo\n",
    "mse_linear = mean_squared_error(y_test, y_pred_linear)\n",
    "mse_ridge = mean_squared_error(y_test, y_pred_ridge)\n",
    "mse_lasso = mean_squared_error(y_test, y_pred_lasso)\n",
    "\n",
    "# Mostrar los errores cuadráticos medios de cada modelo\n",
    "print(f\"Linear Regression MSE: {mse_linear}\")\n",
    "print(f\"Ridge Regression MSE: {mse_ridge}\")\n",
    "print(f\"Lasso Regression MSE: {mse_lasso}\")\n",
    "\n",
    "# Determinar el modelo más adecuado\n",
    "if mse_ridge < mse_linear and mse_ridge < mse_lasso:\n",
    "    print(\"El modelo de regresión Ridge es el más adecuado para este conjunto de datos.\")\n",
    "elif mse_lasso < mse_linear and mse_lasso < mse_ridge:\n",
    "    print(\"El modelo de regresión Lasso es el más adecuado para este conjunto de datos.\")\n",
    "else:\n",
    "    print(\"El modelo de regresión lineal es el más adecuado para este conjunto de datos.\")"
   ]
  },
  {
   "cell_type": "markdown",
   "metadata": {},
   "source": [
    "\"Interpreta los coeficientes del modelo de regresión lineal múltiple entrenado\n",
    "para el conjunto de datos 'math students'. ¿Qué variables tienen un mayor\n",
    "impacto en los modelos?\"\n"
   ]
  },
  {
   "cell_type": "code",
   "execution_count": 18,
   "metadata": {},
   "outputs": [
    {
     "name": "stdout",
     "output_type": "stream",
     "text": [
      "           Coeficiente\n",
      "studytime     0.003313\n",
      "G2            4.163189\n",
      "freetime      0.075376\n",
      "La variable con mayor impacto en el modelo es: G2\n"
     ]
    }
   ],
   "source": [
    "# Obtener los coeficientes del modelo de regresión lineal\n",
    "coefficients = linear_model.coef_\n",
    "\n",
    "# Crear un DataFrame para mostrar los coeficientes junto con los nombres de las características\n",
    "coef_df = pd.DataFrame(coefficients, X.columns, columns=['Coeficiente'])\n",
    "\n",
    "# Mostrar los coeficientes\n",
    "print(coef_df)\n",
    "\n",
    "# Determinar las variables con mayor impacto\n",
    "impacto_mayor = coef_df['Coeficiente'].abs().idxmax()\n",
    "print(f\"La variable con mayor impacto en el modelo es: {impacto_mayor}\")"
   ]
  },
  {
   "cell_type": "markdown",
   "metadata": {},
   "source": [
    "o Cual es el mejor modelo?"
   ]
  },
  {
   "cell_type": "code",
   "execution_count": 19,
   "metadata": {
    "vscode": {
     "languageId": "ruby"
    }
   },
   "outputs": [
    {
     "name": "stdout",
     "output_type": "stream",
     "text": [
      "Linear Regression MSE: 4.189335675291126\n",
      "Ridge Regression MSE: 4.187947941638371\n",
      "Lasso Regression MSE: 4.956192161086115\n",
      "El modelo de regresión Ridge es el mejor  para este conjunto de datos.\n"
     ]
    }
   ],
   "source": [
    "# Comparar el desempeño de los modelos de regresión lineal, Ridge y Lasso\n",
    "\n",
    "# Calcular el error cuadrático medio para cada modelo\n",
    "mse_linear = mean_squared_error(y_test, y_pred_linear)\n",
    "mse_ridge = mean_squared_error(y_test, y_pred_ridge)\n",
    "mse_lasso = mean_squared_error(y_test, y_pred_lasso)\n",
    "\n",
    "# Mostrar los errores cuadráticos medios de cada modelo\n",
    "print(f\"Linear Regression MSE: {mse_linear}\")\n",
    "print(f\"Ridge Regression MSE: {mse_ridge}\")\n",
    "print(f\"Lasso Regression MSE: {mse_lasso}\")\n",
    "\n",
    "# Determinar el modelo más adecuado\n",
    "if mse_ridge < mse_linear and mse_ridge < mse_lasso:\n",
    "    print(\"El modelo de regresión Ridge es el mejor  para este conjunto de datos.\")\n",
    "elif mse_lasso < mse_linear and mse_lasso < mse_ridge:\n",
    "    print(\"El modelo de regresión Lasso es el mejor  para este conjunto de datos.\")\n",
    "else:\n",
    "    print(\"El modelo de regresión lineal es el  mejor para este conjunto de datos.\")"
   ]
  }
 ],
 "metadata": {
  "kernelspec": {
   "display_name": "Python 3",
   "language": "python",
   "name": "python3"
  },
  "language_info": {
   "codemirror_mode": {
    "name": "ipython",
    "version": 3
   },
   "file_extension": ".py",
   "mimetype": "text/x-python",
   "name": "python",
   "nbconvert_exporter": "python",
   "pygments_lexer": "ipython3",
   "version": "3.12.6"
  }
 },
 "nbformat": 4,
 "nbformat_minor": 2
}
